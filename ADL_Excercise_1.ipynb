{
  "nbformat": 4,
  "nbformat_minor": 0,
  "metadata": {
    "colab": {
      "provenance": [],
      "toc_visible": true,
      "authorship_tag": "ABX9TyNHLIwdPFkVQE7Nh5KWruf3",
      "include_colab_link": true
    },
    "kernelspec": {
      "name": "python3",
      "display_name": "Python 3"
    },
    "language_info": {
      "name": "python"
    },
    "accelerator": "GPU",
    "gpuClass": "standard"
  },
  "cells": [
    {
      "cell_type": "markdown",
      "metadata": {
        "id": "view-in-github",
        "colab_type": "text"
      },
      "source": [
        "<a href=\"https://colab.research.google.com/github/oscarlundberg95/ADL/blob/main/ADL_Excercise_1.ipynb\" target=\"_parent\"><img src=\"https://colab.research.google.com/assets/colab-badge.svg\" alt=\"Open In Colab\"/></a>"
      ]
    },
    {
      "cell_type": "markdown",
      "source": [
        "*Download and prepare CIFAR-10 dataset*\n",
        "\n",
        "**Approach for image recogniztion**\n",
        "* Flatten the input image dimensions to 1D (width pixels x height pixels)\n",
        "* Normalize the image pixel values (divide by 255)\n",
        "* One-Hot Encode the categorical column\n",
        "* Build a model architecture (Sequential) with Dense layers(Fully connected layers)\n",
        "* Train the model and make predictions"
      ],
      "metadata": {
        "id": "SeftxONs7UKS"
      }
    },
    {
      "cell_type": "code",
      "source": [
        "tf.test.gpu_device_name()"
      ],
      "metadata": {
        "colab": {
          "base_uri": "https://localhost:8080/",
          "height": 35
        },
        "id": "2OF7CRb4jz_a",
        "outputId": "9a0267f3-4b3c-45ed-9ad9-26647c8ad8ef"
      },
      "execution_count": 2,
      "outputs": [
        {
          "output_type": "execute_result",
          "data": {
            "text/plain": [
              "'/device:GPU:0'"
            ],
            "application/vnd.google.colaboratory.intrinsic+json": {
              "type": "string"
            }
          },
          "metadata": {},
          "execution_count": 2
        }
      ]
    },
    {
      "cell_type": "code",
      "source": [
        "import datetime\n",
        "import numpy as np\n",
        "import tensorflow as tf\n",
        "from tensorflow import keras\n",
        "from keras.models import Sequential\n",
        "from keras.layers import Dense, Dropout, Conv2D, MaxPool2D, Flatten\n",
        "from keras.utils import np_utils\n",
        "\n",
        "# loading cifar10 and shape + type assert to be sure\n",
        "(x_train, y_train), (x_test, y_test) = keras.datasets.cifar10.load_data()\n",
        "x_train = x_train.reshape(x_train.shape[0], 32, 32, 3)\n",
        "x_test = x_test.reshape(x_test.shape[0], 32, 32, 3)\n",
        "x_train = x_train.astype('float32')\n",
        "x_test = x_test.astype('float32')\n",
        "# one-hot encoding categories\n",
        "n_classes = 10\n",
        "y_train = np_utils.to_categorical(y_train, n_classes)\n",
        "y_test = np_utils.to_categorical(y_test, n_classes)\n",
        "# normalizing\n",
        "x_train /= 255\n",
        "x_test /= 255"
      ],
      "metadata": {
        "id": "i8YtgpRW7ahM"
      },
      "execution_count": 3,
      "outputs": []
    },
    {
      "cell_type": "markdown",
      "source": [
        "#**All the models are the same except for optimizer and activation functions. As well as run with the same batch size of 128 and 10 epochs**\n",
        "\n",
        "\n",
        "\n",
        "\n"
      ],
      "metadata": {
        "id": "sS-Fwi0W7a64"
      }
    },
    {
      "cell_type": "markdown",
      "source": [
        "# LeakyReLU + SGD\n",
        "## Results: val accuracy = 9,95%\n"
      ],
      "metadata": {
        "id": "-uEmBGQUd7Aj"
      }
    },
    {
      "cell_type": "markdown",
      "source": [
        "* *Write a simple CNN network for classifying images*\n",
        "  - *use LeakyReLU as the activation function*\n",
        "  - *use SGD as the optimizer and 0.0001 as the learning rate, and keep all default param-eters*\n",
        "– *Report the accuracy on the test set*"
      ],
      "metadata": {
        "id": "2p1P97VSfi54"
      }
    },
    {
      "cell_type": "code",
      "source": [
        "# building a linear stack of layers with the sequential model\n",
        "model = Sequential()\n",
        "# convolutional layer\n",
        "model.add(Conv2D(25, kernel_size=(3,3), strides=(1,1), padding='valid', activation='LeakyReLU', input_shape=(32,32,3)))\n",
        "model.add(MaxPool2D(pool_size=(1,1)))\n",
        "# flatten output of conv\n",
        "model.add(Flatten())\n",
        "# hidden layer\n",
        "model.add(Dense(100, activation='LeakyReLU'))\n",
        "# output layer\n",
        "model.add(Dense(10, activation='LeakyReLU'))\n",
        "\n",
        "# compiling the sequential model\n",
        "opt = keras.optimizers.SGD(learning_rate=0.0001)\n",
        "loss = keras.losses.CategoricalCrossentropy()\n",
        "model.compile(loss=loss, optimizer=opt, metrics=['accuracy'])\n",
        "\n",
        "# training the model for x epochs\n",
        "model.fit(x_train, y_train, batch_size=128, epochs=10, validation_data=(x_test, y_test))"
      ],
      "metadata": {
        "colab": {
          "base_uri": "https://localhost:8080/"
        },
        "id": "koKj8WLCDTrL",
        "outputId": "eae7f1cc-1ffc-4a00-b289-9f69279bca18"
      },
      "execution_count": 4,
      "outputs": [
        {
          "output_type": "stream",
          "name": "stdout",
          "text": [
            "Epoch 1/10\n",
            "391/391 [==============================] - 14s 14ms/step - loss: 8.7993 - accuracy: 0.0885 - val_loss: 11.2851 - val_accuracy: 0.0998\n",
            "Epoch 2/10\n",
            "391/391 [==============================] - 3s 7ms/step - loss: 10.9736 - accuracy: 0.0984 - val_loss: 11.2241 - val_accuracy: 0.0967\n",
            "Epoch 3/10\n",
            "391/391 [==============================] - 2s 6ms/step - loss: 11.2232 - accuracy: 0.0968 - val_loss: 11.2477 - val_accuracy: 0.0958\n",
            "Epoch 4/10\n",
            "391/391 [==============================] - 2s 6ms/step - loss: 11.2374 - accuracy: 0.0965 - val_loss: 11.2492 - val_accuracy: 0.0969\n",
            "Epoch 5/10\n",
            "391/391 [==============================] - 2s 6ms/step - loss: 11.2392 - accuracy: 0.0976 - val_loss: 11.2556 - val_accuracy: 0.0988\n",
            "Epoch 6/10\n",
            "391/391 [==============================] - 2s 6ms/step - loss: 11.2440 - accuracy: 0.0976 - val_loss: 11.2604 - val_accuracy: 0.0983\n",
            "Epoch 7/10\n",
            "391/391 [==============================] - 2s 6ms/step - loss: 11.2511 - accuracy: 0.0980 - val_loss: 11.2636 - val_accuracy: 0.0977\n",
            "Epoch 8/10\n",
            "391/391 [==============================] - 2s 6ms/step - loss: 11.2549 - accuracy: 0.0985 - val_loss: 11.2716 - val_accuracy: 0.0981\n",
            "Epoch 9/10\n",
            "391/391 [==============================] - 2s 6ms/step - loss: 11.2559 - accuracy: 0.0996 - val_loss: 11.2748 - val_accuracy: 0.0985\n",
            "Epoch 10/10\n",
            "391/391 [==============================] - 3s 8ms/step - loss: 11.2588 - accuracy: 0.0999 - val_loss: 11.2732 - val_accuracy: 0.0995\n"
          ]
        },
        {
          "output_type": "execute_result",
          "data": {
            "text/plain": [
              "<keras.callbacks.History at 0x7f56dfd4ed90>"
            ]
          },
          "metadata": {},
          "execution_count": 4
        }
      ]
    },
    {
      "cell_type": "markdown",
      "source": [
        "# LeakyReLU + Adam\n",
        "## Results: val accuracy = 31,4%\n"
      ],
      "metadata": {
        "id": "uCzzL-VqeBId"
      }
    },
    {
      "cell_type": "markdown",
      "source": [
        "*Change the optimiser to Adam and run again the experiment. Report accuracy on test set.*\n"
      ],
      "metadata": {
        "id": "Ns5dVNa2DXMw"
      }
    },
    {
      "cell_type": "code",
      "source": [
        "# building a linear stack of layers with the sequential model\n",
        "model = Sequential()\n",
        "# convolutional layer\n",
        "model.add(Conv2D(25, kernel_size=(3,3), strides=(1,1), padding='valid', activation='LeakyReLU', input_shape=(32,32,3)))\n",
        "model.add(MaxPool2D(pool_size=(1,1)))\n",
        "# flatten output of conv\n",
        "model.add(Flatten())\n",
        "# hidden layer\n",
        "model.add(Dense(100, activation='LeakyReLU'))\n",
        "# output layer\n",
        "model.add(Dense(10, activation='LeakyReLU'))\n",
        "\n",
        "# compiling the sequential model\n",
        "opt = keras.optimizers.Adam(learning_rate=0.0001)\n",
        "loss = keras.losses.CategoricalCrossentropy()\n",
        "model.compile(loss=loss, optimizer=opt, metrics=['accuracy'])\n",
        "\n",
        "# training the model for x epochs\n",
        "model.fit(x_train, y_train, batch_size=128, epochs=10, validation_data=(x_test, y_test))"
      ],
      "metadata": {
        "colab": {
          "base_uri": "https://localhost:8080/"
        },
        "id": "_jWTcgnvDZh-",
        "outputId": "dd239a8c-3de9-4406-b666-6f951b3964b2"
      },
      "execution_count": 5,
      "outputs": [
        {
          "output_type": "stream",
          "name": "stdout",
          "text": [
            "Epoch 1/10\n",
            "391/391 [==============================] - 5s 8ms/step - loss: 2.3602 - accuracy: 0.1026 - val_loss: 2.2460 - val_accuracy: 0.1198\n",
            "Epoch 2/10\n",
            "391/391 [==============================] - 2s 6ms/step - loss: 2.1943 - accuracy: 0.1618 - val_loss: 2.1200 - val_accuracy: 0.1714\n",
            "Epoch 3/10\n",
            "391/391 [==============================] - 2s 6ms/step - loss: 2.1160 - accuracy: 0.2115 - val_loss: 2.0638 - val_accuracy: 0.2486\n",
            "Epoch 4/10\n",
            "391/391 [==============================] - 2s 6ms/step - loss: 2.1094 - accuracy: 0.2335 - val_loss: 2.2108 - val_accuracy: 0.1003\n",
            "Epoch 5/10\n",
            "391/391 [==============================] - 2s 6ms/step - loss: 2.1015 - accuracy: 0.2091 - val_loss: 2.1006 - val_accuracy: 0.2696\n",
            "Epoch 6/10\n",
            "391/391 [==============================] - 2s 6ms/step - loss: 2.1934 - accuracy: 0.1732 - val_loss: 2.0947 - val_accuracy: 0.1630\n",
            "Epoch 7/10\n",
            "391/391 [==============================] - 2s 6ms/step - loss: 2.0473 - accuracy: 0.2455 - val_loss: 2.0498 - val_accuracy: 0.3063\n",
            "Epoch 8/10\n",
            "391/391 [==============================] - 2s 6ms/step - loss: 2.2456 - accuracy: 0.1366 - val_loss: 2.2576 - val_accuracy: 0.1015\n",
            "Epoch 9/10\n",
            "391/391 [==============================] - 3s 7ms/step - loss: 2.1857 - accuracy: 0.1110 - val_loss: 2.1270 - val_accuracy: 0.1365\n",
            "Epoch 10/10\n",
            "391/391 [==============================] - 3s 8ms/step - loss: 2.0641 - accuracy: 0.2322 - val_loss: 2.0526 - val_accuracy: 0.3139\n"
          ]
        },
        {
          "output_type": "execute_result",
          "data": {
            "text/plain": [
              "<keras.callbacks.History at 0x7f56de24a640>"
            ]
          },
          "metadata": {},
          "execution_count": 5
        }
      ]
    },
    {
      "cell_type": "markdown",
      "source": [
        "# Tanh + SGD\n",
        "## Results: val accuracy = 5,4%"
      ],
      "metadata": {
        "id": "kLgM6v7SeYc_"
      }
    },
    {
      "cell_type": "markdown",
      "source": [
        "*Swap the LeakyReLUs for Tanh. Then run again the experiment and report accuracy on test set. Make a separate file for this experiment.*\n"
      ],
      "metadata": {
        "id": "PuJVGNDoDcLo"
      }
    },
    {
      "cell_type": "code",
      "source": [
        "# building a linear stack of layers with the sequential model\n",
        "model = Sequential()\n",
        "# convolutional layer\n",
        "model.add(Conv2D(25, kernel_size=(3,3), strides=(1,1), padding='valid', activation='tanh', input_shape=(32,32,3)))\n",
        "model.add(MaxPool2D(pool_size=(1,1)))\n",
        "# flatten output of conv\n",
        "model.add(Flatten())\n",
        "# hidden layer\n",
        "model.add(Dense(100, activation='tanh'))\n",
        "# output layer\n",
        "model.add(Dense(10, activation='tanh'))\n",
        "\n",
        "# compiling the sequential model\n",
        "opt = keras.optimizers.SGD(learning_rate=0.0001)\n",
        "loss = keras.losses.CategoricalCrossentropy()\n",
        "model.compile(loss=loss, optimizer=opt, metrics=['accuracy'])\n",
        "\n",
        "# training the model for x epochs\n",
        "model.fit(x_train, y_train, batch_size=128, epochs=10, validation_data=(x_test, y_test))"
      ],
      "metadata": {
        "colab": {
          "base_uri": "https://localhost:8080/"
        },
        "id": "FfJsj-aVDesD",
        "outputId": "3b1f7f30-9c68-436e-f33f-3d06d952c4d8"
      },
      "execution_count": 6,
      "outputs": [
        {
          "output_type": "stream",
          "name": "stdout",
          "text": [
            "Epoch 1/10\n",
            "391/391 [==============================] - 4s 9ms/step - loss: 2.3487 - accuracy: 0.0515 - val_loss: 2.2054 - val_accuracy: 0.0360\n",
            "Epoch 2/10\n",
            "391/391 [==============================] - 2s 6ms/step - loss: 2.2326 - accuracy: 0.0296 - val_loss: 2.2153 - val_accuracy: 0.0288\n",
            "Epoch 3/10\n",
            "391/391 [==============================] - 2s 5ms/step - loss: 2.2683 - accuracy: 0.0255 - val_loss: 2.2659 - val_accuracy: 0.0268\n",
            "Epoch 4/10\n",
            "391/391 [==============================] - 2s 6ms/step - loss: 2.2271 - accuracy: 0.0222 - val_loss: 2.1858 - val_accuracy: 0.0191\n",
            "Epoch 5/10\n",
            "391/391 [==============================] - 3s 7ms/step - loss: 7.8409 - accuracy: 0.0499 - val_loss: 7.4168 - val_accuracy: 0.0494\n",
            "Epoch 6/10\n",
            "391/391 [==============================] - 3s 7ms/step - loss: 8.4442 - accuracy: 0.0563 - val_loss: 8.0573 - val_accuracy: 0.0544\n",
            "Epoch 7/10\n",
            "391/391 [==============================] - 2s 6ms/step - loss: 8.0560 - accuracy: 0.0544 - val_loss: 8.0511 - val_accuracy: 0.0546\n",
            "Epoch 8/10\n",
            "391/391 [==============================] - 2s 5ms/step - loss: 8.0494 - accuracy: 0.0554 - val_loss: 8.0313 - val_accuracy: 0.0539\n",
            "Epoch 9/10\n",
            "391/391 [==============================] - 2s 5ms/step - loss: 8.0446 - accuracy: 0.0551 - val_loss: 8.0102 - val_accuracy: 0.0544\n",
            "Epoch 10/10\n",
            "391/391 [==============================] - 2s 6ms/step - loss: 8.0315 - accuracy: 0.0550 - val_loss: 7.9923 - val_accuracy: 0.0542\n"
          ]
        },
        {
          "output_type": "execute_result",
          "data": {
            "text/plain": [
              "<keras.callbacks.History at 0x7f56de22dcd0>"
            ]
          },
          "metadata": {},
          "execution_count": 6
        }
      ]
    },
    {
      "cell_type": "markdown",
      "source": [
        "# Tanh + Adam\n",
        "## Results: 11,1%"
      ],
      "metadata": {
        "id": "n_qJl7uwepW4"
      }
    },
    {
      "cell_type": "code",
      "source": [
        "# building a linear stack of layers with the sequential model\n",
        "model = Sequential()\n",
        "# convolutional layer\n",
        "model.add(Conv2D(25, kernel_size=(3,3), strides=(1,1), padding='valid', activation='tanh', input_shape=(32,32,3)))\n",
        "model.add(MaxPool2D(pool_size=(1,1)))\n",
        "# flatten output of conv\n",
        "model.add(Flatten())\n",
        "# hidden layer\n",
        "model.add(Dense(100, activation='tanh'))\n",
        "# output layer\n",
        "model.add(Dense(10, activation='tanh'))\n",
        "\n",
        "# compiling the sequential model\n",
        "opt = keras.optimizers.Adam(learning_rate=0.0001)\n",
        "loss = keras.losses.CategoricalCrossentropy()\n",
        "model.compile(loss=loss, optimizer=opt, metrics=['accuracy'])\n",
        "\n",
        "# training the model for x epochs\n",
        "model.fit(x_train, y_train, batch_size=128, epochs=10, validation_data=(x_test, y_test))"
      ],
      "metadata": {
        "colab": {
          "base_uri": "https://localhost:8080/"
        },
        "id": "I4RGEtC2ev00",
        "outputId": "9ee17fef-954d-4617-b23b-1a6b684c35ce"
      },
      "execution_count": 7,
      "outputs": [
        {
          "output_type": "stream",
          "name": "stdout",
          "text": [
            "Epoch 1/10\n",
            "391/391 [==============================] - 4s 7ms/step - loss: 7.2124 - accuracy: 0.0997 - val_loss: 8.0593 - val_accuracy: 0.1010\n",
            "Epoch 2/10\n",
            "391/391 [==============================] - 2s 6ms/step - loss: 8.0586 - accuracy: 0.1035 - val_loss: 8.0593 - val_accuracy: 0.1017\n",
            "Epoch 3/10\n",
            "391/391 [==============================] - 3s 7ms/step - loss: 8.0585 - accuracy: 0.1054 - val_loss: 8.0591 - val_accuracy: 0.1034\n",
            "Epoch 4/10\n",
            "391/391 [==============================] - 2s 6ms/step - loss: 8.0585 - accuracy: 0.1063 - val_loss: 8.0591 - val_accuracy: 0.1056\n",
            "Epoch 5/10\n",
            "391/391 [==============================] - 2s 6ms/step - loss: 8.0585 - accuracy: 0.1073 - val_loss: 8.0591 - val_accuracy: 0.1070\n",
            "Epoch 6/10\n",
            "391/391 [==============================] - 2s 6ms/step - loss: 8.0585 - accuracy: 0.1078 - val_loss: 8.0591 - val_accuracy: 0.1077\n",
            "Epoch 7/10\n",
            "391/391 [==============================] - 2s 6ms/step - loss: 8.0584 - accuracy: 0.1077 - val_loss: 8.0590 - val_accuracy: 0.1073\n",
            "Epoch 8/10\n",
            "391/391 [==============================] - 3s 6ms/step - loss: 8.0584 - accuracy: 0.1094 - val_loss: 8.0590 - val_accuracy: 0.1085\n",
            "Epoch 9/10\n",
            "391/391 [==============================] - 3s 7ms/step - loss: 8.0584 - accuracy: 0.1101 - val_loss: 8.0590 - val_accuracy: 0.1102\n",
            "Epoch 10/10\n",
            "391/391 [==============================] - 3s 8ms/step - loss: 8.0584 - accuracy: 0.1101 - val_loss: 8.0591 - val_accuracy: 0.1111\n"
          ]
        },
        {
          "output_type": "execute_result",
          "data": {
            "text/plain": [
              "<keras.callbacks.History at 0x7f56e045bf70>"
            ]
          },
          "metadata": {},
          "execution_count": 7
        }
      ]
    },
    {
      "cell_type": "markdown",
      "source": [
        "*Visualize the results of these runs on a Tensorboard. Just put any screenshot of the web interface with the experiments to prove you got it working is enough. (for example- show the training loss on tensorboard)*"
      ],
      "metadata": {
        "id": "61g1QKW8DfsL"
      }
    },
    {
      "cell_type": "code",
      "source": [
        "rm -rf ./logs/"
      ],
      "metadata": {
        "id": "3AQzW_KrDgQC"
      },
      "execution_count": 2,
      "outputs": []
    }
  ]
}