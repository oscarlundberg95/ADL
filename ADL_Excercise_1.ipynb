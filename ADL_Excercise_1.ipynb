{
  "nbformat": 4,
  "nbformat_minor": 0,
  "metadata": {
    "colab": {
      "provenance": [],
      "authorship_tag": "ABX9TyOpJGt6khAuPlaaTloN2zR3",
      "include_colab_link": true
    },
    "kernelspec": {
      "name": "python3",
      "display_name": "Python 3"
    },
    "language_info": {
      "name": "python"
    },
    "accelerator": "GPU",
    "gpuClass": "standard"
  },
  "cells": [
    {
      "cell_type": "markdown",
      "metadata": {
        "id": "view-in-github",
        "colab_type": "text"
      },
      "source": [
        "<a href=\"https://colab.research.google.com/github/oscarlundberg95/ADL/blob/main/ADL_Excercise_1.ipynb\" target=\"_parent\"><img src=\"https://colab.research.google.com/assets/colab-badge.svg\" alt=\"Open In Colab\"/></a>"
      ]
    },
    {
      "cell_type": "markdown",
      "source": [
        "*Download and prepare CIFAR-10 dataset*\n",
        "\n",
        "**Approach for image recogniztion**\n",
        "* Normalize the image pixel values (divide by 255)\n",
        "* One-Hot Encode the categorical column\n",
        "* Build a model architecture (Sequential) with Dense layers(Fully connected layers)\n",
        "* Train the model and make predictions"
      ],
      "metadata": {
        "id": "SeftxONs7UKS"
      }
    },
    {
      "cell_type": "code",
      "source": [
        "%load_ext tensorboard\n",
        "import datetime\n",
        "from tensorboard.plugins.hparams import api as hp\n",
        "import numpy as np\n",
        "import tensorflow as tf\n",
        "from tensorflow import keras\n",
        "from keras.models import Sequential\n",
        "from keras.layers import Dense, Dropout, Conv2D, MaxPool2D, Flatten\n",
        "from keras.utils import np_utils\n",
        "\n",
        "# loading cifar10 and shape + type assert to be sure\n",
        "(x_train, y_train), (x_test, y_test) = keras.datasets.cifar10.load_data()\n",
        "x_train = x_train.reshape(x_train.shape[0], 32, 32, 3)\n",
        "x_test = x_test.reshape(x_test.shape[0], 32, 32, 3)\n",
        "x_train = x_train.astype('float32')\n",
        "x_test = x_test.astype('float32')\n",
        "# one-hot encoding categories\n",
        "n_classes = 10\n",
        "y_train = np_utils.to_categorical(y_train, n_classes)\n",
        "y_test = np_utils.to_categorical(y_test, n_classes)\n",
        "# normalizing\n",
        "x_train /= 255\n",
        "x_test /= 255"
      ],
      "metadata": {
        "id": "i8YtgpRW7ahM",
        "colab": {
          "base_uri": "https://localhost:8080/"
        },
        "outputId": "d3fab0e8-541a-4945-8da8-ac4b5390d6c7"
      },
      "execution_count": 23,
      "outputs": [
        {
          "output_type": "stream",
          "name": "stdout",
          "text": [
            "The tensorboard extension is already loaded. To reload it, use:\n",
            "  %reload_ext tensorboard\n"
          ]
        }
      ]
    },
    {
      "cell_type": "markdown",
      "source": [
        "#**All the models are the same except for optimizer and activation functions. As well as run with the same batch size of 128 and 10 epochs**\n",
        "\n",
        "\n",
        "\n",
        "\n"
      ],
      "metadata": {
        "id": "sS-Fwi0W7a64"
      }
    },
    {
      "cell_type": "code",
      "source": [
        "# Logging for TensorBoard\n",
        "%reload_ext tensorboard\n",
        "\n",
        "log_dir=\"logs/fit/\" + datetime.datetime.now().strftime(\"%Y%m%d-%H%M%S\")\n",
        "tensorboard_callback = tf.keras.callbacks.TensorBoard(\n",
        "    log_dir=log_dir, histogram_freq=1)\n",
        "hparams_callback = hp.KerasCallback(log_dir, {\n",
        "    'num_relu_units': 512,\n",
        "    'dropout': 0.2\n",
        "})"
      ],
      "metadata": {
        "id": "6jFEBfj4MWVK"
      },
      "execution_count": 32,
      "outputs": []
    },
    {
      "cell_type": "markdown",
      "source": [
        "# LeakyReLU + SGD\n",
        "## Results: val accuracy ~ 9,95%\n"
      ],
      "metadata": {
        "id": "-uEmBGQUd7Aj"
      }
    },
    {
      "cell_type": "markdown",
      "source": [
        "* *Write a simple CNN network for classifying images*\n",
        "  - *use LeakyReLU as the activation function*\n",
        "  - *use SGD as the optimizer and 0.0001 as the learning rate, and keep all default param-eters*\n",
        "– *Report the accuracy on the test set*"
      ],
      "metadata": {
        "id": "2p1P97VSfi54"
      }
    },
    {
      "cell_type": "code",
      "source": [
        "# Logging for TensorBoard\n",
        "%reload_ext tensorboard\n",
        "\n",
        "# linear stack of layers\n",
        "model = Sequential()\n",
        "# layer 1\n",
        "model.add(Conv2D(25, kernel_size=(3,3), strides=(1,1), padding='valid', activation='LeakyReLU', input_shape=(32,32,3)))\n",
        "model.add(MaxPool2D(pool_size=(1,1)))\n",
        "#model.add(Dropout(0.2))\n",
        "model.add(Flatten())\n",
        "# hidden + output\n",
        "model.add(Dense(100, activation='LeakyReLU'))\n",
        "model.add(Dense(10, activation='LeakyReLU'))\n",
        "\n",
        "# compiling the model\n",
        "opt = keras.optimizers.SGD(learning_rate=0.0001)\n",
        "loss = keras.losses.CategoricalCrossentropy()\n",
        "model.compile(loss=loss, optimizer=opt, metrics=['accuracy'])\n",
        "\n",
        "# lol\n",
        "\n",
        "# training the model for x epochs\n",
        "model.fit(x_train, y_train, batch_size=128, epochs=10, validation_data=(x_test, y_test), callbacks=[tensorboard_callback, hparams_callback])"
      ],
      "metadata": {
        "colab": {
          "base_uri": "https://localhost:8080/"
        },
        "id": "koKj8WLCDTrL",
        "outputId": "ee670367-12c8-4ae2-846d-66159f8d9ba2"
      },
      "execution_count": 33,
      "outputs": [
        {
          "output_type": "stream",
          "name": "stdout",
          "text": [
            "Epoch 1/10\n",
            "391/391 [==============================] - 7s 16ms/step - loss: 4.9365 - accuracy: 0.0998 - val_loss: 4.8191 - val_accuracy: 0.1021\n",
            "Epoch 2/10\n",
            "391/391 [==============================] - 6s 15ms/step - loss: 4.7240 - accuracy: 0.1204 - val_loss: 4.6064 - val_accuracy: 0.1398\n",
            "Epoch 3/10\n",
            "391/391 [==============================] - 6s 16ms/step - loss: 7.1839 - accuracy: 0.1149 - val_loss: 8.2097 - val_accuracy: 0.1001\n",
            "Epoch 4/10\n",
            "391/391 [==============================] - 4s 11ms/step - loss: 8.4003 - accuracy: 0.1004 - val_loss: 8.4405 - val_accuracy: 0.1008\n",
            "Epoch 5/10\n",
            "391/391 [==============================] - 4s 10ms/step - loss: 8.2988 - accuracy: 0.1007 - val_loss: 8.3611 - val_accuracy: 0.1010\n",
            "Epoch 6/10\n",
            "391/391 [==============================] - 4s 10ms/step - loss: 8.2305 - accuracy: 0.1008 - val_loss: 8.2529 - val_accuracy: 0.1014\n",
            "Epoch 7/10\n",
            "391/391 [==============================] - 4s 10ms/step - loss: 8.2101 - accuracy: 0.1007 - val_loss: 8.1835 - val_accuracy: 0.1016\n",
            "Epoch 8/10\n",
            "391/391 [==============================] - 5s 12ms/step - loss: 8.1655 - accuracy: 0.1008 - val_loss: 8.1641 - val_accuracy: 0.1016\n",
            "Epoch 9/10\n",
            "391/391 [==============================] - 5s 12ms/step - loss: 8.1571 - accuracy: 0.1009 - val_loss: 8.1512 - val_accuracy: 0.1019\n",
            "Epoch 10/10\n",
            "391/391 [==============================] - 4s 10ms/step - loss: 8.1196 - accuracy: 0.1010 - val_loss: 8.1205 - val_accuracy: 0.1019\n"
          ]
        },
        {
          "output_type": "execute_result",
          "data": {
            "text/plain": [
              "<keras.callbacks.History at 0x7f6f09e632e0>"
            ]
          },
          "metadata": {},
          "execution_count": 33
        }
      ]
    },
    {
      "cell_type": "markdown",
      "source": [
        "# LeakyReLU + Adam\n",
        "## Results: val accuracy ~ 31%\n"
      ],
      "metadata": {
        "id": "uCzzL-VqeBId"
      }
    },
    {
      "cell_type": "markdown",
      "source": [
        "*Change the optimiser to Adam and run again the experiment. Report accuracy on test set.*\n"
      ],
      "metadata": {
        "id": "Ns5dVNa2DXMw"
      }
    },
    {
      "cell_type": "code",
      "source": [
        "# Logging for TensorBoard\n",
        "%reload_ext tensorboard\n",
        "\n",
        "# linear stack of layers\n",
        "model = Sequential()\n",
        "# layer 1\n",
        "model.add(Conv2D(25, kernel_size=(3,3), strides=(1,1), padding='valid', activation='LeakyReLU', input_shape=(32,32,3)))\n",
        "model.add(MaxPool2D(pool_size=(1,1)))\n",
        "#model.add(Dropout(0.2))\n",
        "model.add(Flatten())\n",
        "# hidden + output\n",
        "model.add(Dense(100, activation='LeakyReLU'))\n",
        "model.add(Dense(10, activation='LeakyReLU'))\n",
        "\n",
        "# compiling the model\n",
        "opt = keras.optimizers.Adam(learning_rate=0.0001)\n",
        "loss = keras.losses.CategoricalCrossentropy()\n",
        "model.compile(loss=loss, optimizer=opt, metrics=['accuracy'])\n",
        "\n",
        "# training the model for x epochs\n",
        "model.fit(x_train, y_train, batch_size=128, epochs=10, validation_data=(x_test, y_test), callbacks=[tensorboard_callback, hparams_callback])"
      ],
      "metadata": {
        "colab": {
          "base_uri": "https://localhost:8080/"
        },
        "id": "_jWTcgnvDZh-",
        "outputId": "eac4eb12-396a-4999-b9cb-94ab998efeb0"
      },
      "execution_count": 31,
      "outputs": [
        {
          "output_type": "stream",
          "name": "stdout",
          "text": [
            "Epoch 1/10\n",
            "391/391 [==============================] - 8s 14ms/step - loss: 7.9570 - accuracy: 0.1431 - val_loss: 7.8737 - val_accuracy: 0.1377\n",
            "Epoch 2/10\n",
            "391/391 [==============================] - 4s 10ms/step - loss: 7.9366 - accuracy: 0.1414 - val_loss: 7.8624 - val_accuracy: 0.1391\n",
            "Epoch 3/10\n",
            "391/391 [==============================] - 4s 10ms/step - loss: 8.0110 - accuracy: 0.1441 - val_loss: 7.9075 - val_accuracy: 0.1396\n",
            "Epoch 4/10\n",
            "391/391 [==============================] - 6s 16ms/step - loss: 8.0139 - accuracy: 0.1441 - val_loss: 7.9075 - val_accuracy: 0.1396\n",
            "Epoch 5/10\n",
            "391/391 [==============================] - 5s 12ms/step - loss: 8.0139 - accuracy: 0.1441 - val_loss: 7.9075 - val_accuracy: 0.1396\n",
            "Epoch 6/10\n",
            "391/391 [==============================] - 3s 8ms/step - loss: 8.0139 - accuracy: 0.1441 - val_loss: 7.9075 - val_accuracy: 0.1396\n",
            "Epoch 7/10\n",
            "391/391 [==============================] - 3s 8ms/step - loss: 8.0139 - accuracy: 0.1441 - val_loss: 7.9075 - val_accuracy: 0.1396\n",
            "Epoch 8/10\n",
            "391/391 [==============================] - 6s 16ms/step - loss: 8.0139 - accuracy: 0.1441 - val_loss: 7.9075 - val_accuracy: 0.1396\n",
            "Epoch 9/10\n",
            "391/391 [==============================] - 7s 17ms/step - loss: 8.0139 - accuracy: 0.1441 - val_loss: 7.9075 - val_accuracy: 0.1396\n",
            "Epoch 10/10\n",
            "391/391 [==============================] - 5s 13ms/step - loss: 8.0139 - accuracy: 0.1441 - val_loss: 7.9075 - val_accuracy: 0.1396\n"
          ]
        },
        {
          "output_type": "execute_result",
          "data": {
            "text/plain": [
              "<keras.callbacks.History at 0x7f6f0a08bca0>"
            ]
          },
          "metadata": {},
          "execution_count": 31
        }
      ]
    },
    {
      "cell_type": "markdown",
      "source": [
        "# Tanh + SGD\n",
        "## Results: val accuracy ~ 5%"
      ],
      "metadata": {
        "id": "kLgM6v7SeYc_"
      }
    },
    {
      "cell_type": "markdown",
      "source": [
        "*Swap the LeakyReLUs for Tanh. Then run again the experiment and report accuracy on test set. Make a separate file for this experiment.*\n"
      ],
      "metadata": {
        "id": "PuJVGNDoDcLo"
      }
    },
    {
      "cell_type": "code",
      "source": [
        "# Logging for TensorBoard\n",
        "%reload_ext tensorboard\n",
        "\n",
        "# linear stack of layers\n",
        "model = Sequential()\n",
        "# layer 1\n",
        "model.add(Conv2D(25, kernel_size=(3,3), strides=(1,1), padding='valid', activation='tanh', input_shape=(32,32,3)))\n",
        "model.add(MaxPool2D(pool_size=(1,1)))\n",
        "#model.add(Dropout(0.2))\n",
        "model.add(Flatten())\n",
        "# hidden + output\n",
        "model.add(Dense(100, activation='tanh'))\n",
        "model.add(Dense(10, activation='tanh'))\n",
        "\n",
        "# compiling the model\n",
        "opt = keras.optimizers.SGD(learning_rate=0.0001)\n",
        "loss = keras.losses.CategoricalCrossentropy()\n",
        "model.compile(loss=loss, optimizer=opt, metrics=['accuracy'])\n",
        "\n",
        "# training the model for x epochs\n",
        "model.fit(x_train, y_train, batch_size=128, epochs=10, validation_data=(x_test, y_test), callbacks=[tensorboard_callback, hparams_callback])"
      ],
      "metadata": {
        "colab": {
          "base_uri": "https://localhost:8080/"
        },
        "id": "FfJsj-aVDesD",
        "outputId": "5bc6c74f-e688-4915-b422-f163a7a4ff47"
      },
      "execution_count": 26,
      "outputs": [
        {
          "output_type": "stream",
          "name": "stdout",
          "text": [
            "Epoch 1/10\n",
            "391/391 [==============================] - 4s 9ms/step - loss: 4.7840 - accuracy: 0.1081 - val_loss: 4.5675 - val_accuracy: 0.1094\n",
            "Epoch 2/10\n",
            "391/391 [==============================] - 4s 10ms/step - loss: 5.8754 - accuracy: 0.1062 - val_loss: 8.0518 - val_accuracy: 0.1044\n",
            "Epoch 3/10\n",
            "391/391 [==============================] - 5s 12ms/step - loss: 7.6307 - accuracy: 0.1038 - val_loss: 6.5523 - val_accuracy: 0.1078\n",
            "Epoch 4/10\n",
            "391/391 [==============================] - 5s 12ms/step - loss: 7.4729 - accuracy: 0.1061 - val_loss: 7.2520 - val_accuracy: 0.1092\n",
            "Epoch 5/10\n",
            "391/391 [==============================] - 6s 14ms/step - loss: 8.0357 - accuracy: 0.1044 - val_loss: 7.8707 - val_accuracy: 0.1038\n",
            "Epoch 6/10\n",
            "391/391 [==============================] - 4s 10ms/step - loss: 7.7936 - accuracy: 0.1038 - val_loss: 7.5815 - val_accuracy: 0.1036\n",
            "Epoch 7/10\n",
            "391/391 [==============================] - 3s 7ms/step - loss: 7.5138 - accuracy: 0.1025 - val_loss: 6.6050 - val_accuracy: 0.1000\n",
            "Epoch 8/10\n",
            "391/391 [==============================] - 4s 9ms/step - loss: 6.6607 - accuracy: 0.1000 - val_loss: 6.1831 - val_accuracy: 0.1000\n",
            "Epoch 9/10\n",
            "391/391 [==============================] - 4s 10ms/step - loss: 6.5614 - accuracy: 0.1000 - val_loss: 6.6444 - val_accuracy: 0.1000\n",
            "Epoch 10/10\n",
            "391/391 [==============================] - 4s 9ms/step - loss: 6.5113 - accuracy: 0.1000 - val_loss: 6.6108 - val_accuracy: 0.1000\n"
          ]
        },
        {
          "output_type": "execute_result",
          "data": {
            "text/plain": [
              "<keras.callbacks.History at 0x7f6ed0c37e20>"
            ]
          },
          "metadata": {},
          "execution_count": 26
        }
      ]
    },
    {
      "cell_type": "markdown",
      "source": [
        "# Tanh + Adam\n",
        "## Results: val accuracy ~ 11%"
      ],
      "metadata": {
        "id": "n_qJl7uwepW4"
      }
    },
    {
      "cell_type": "code",
      "source": [
        "# Logging for TensorBoard\n",
        "%reload_ext tensorboard\n",
        "\n",
        "# linear stack of layers\n",
        "model = Sequential()\n",
        "# layer 1\n",
        "model.add(Conv2D(25, kernel_size=(3,3), strides=(1,1), padding='valid', activation='tanh', input_shape=(32,32,3)))\n",
        "model.add(MaxPool2D(pool_size=(1,1)))\n",
        "#model.add(Dropout(0.2))\n",
        "model.add(Flatten())\n",
        "# hidden + output\n",
        "model.add(Dense(100, activation='tanh'))\n",
        "model.add(Dense(10, activation='tanh'))\n",
        "\n",
        "# compiling the model\n",
        "opt = keras.optimizers.Adam(learning_rate=0.0001)\n",
        "loss = keras.losses.CategoricalCrossentropy()\n",
        "model.compile(loss=loss, optimizer=opt, metrics=['accuracy'])\n",
        "\n",
        "# training the model for x epochs\n",
        "model.fit(x_train, y_train, batch_size=128, epochs=10, validation_data=(x_test, y_test), callbacks=[tensorboard_callback, hparams_callback])"
      ],
      "metadata": {
        "colab": {
          "base_uri": "https://localhost:8080/"
        },
        "id": "I4RGEtC2ev00",
        "outputId": "2b14b04f-b3f2-492a-9524-2b9f65d6add0"
      },
      "execution_count": 29,
      "outputs": [
        {
          "output_type": "stream",
          "name": "stdout",
          "text": [
            "Epoch 1/10\n",
            "391/391 [==============================] - 7s 14ms/step - loss: 7.4386 - accuracy: 0.1110 - val_loss: 8.0591 - val_accuracy: 0.1108\n",
            "Epoch 2/10\n",
            "391/391 [==============================] - 4s 10ms/step - loss: 8.0591 - accuracy: 0.1105 - val_loss: 8.0591 - val_accuracy: 0.1127\n",
            "Epoch 3/10\n",
            "391/391 [==============================] - 4s 10ms/step - loss: 8.0591 - accuracy: 0.1112 - val_loss: 8.0590 - val_accuracy: 0.1128\n",
            "Epoch 4/10\n",
            "391/391 [==============================] - 4s 9ms/step - loss: 8.0591 - accuracy: 0.1114 - val_loss: 8.0590 - val_accuracy: 0.1128\n",
            "Epoch 5/10\n",
            "391/391 [==============================] - 5s 13ms/step - loss: 8.0591 - accuracy: 0.1114 - val_loss: 8.0590 - val_accuracy: 0.1126\n",
            "Epoch 6/10\n",
            "391/391 [==============================] - 4s 11ms/step - loss: 8.0591 - accuracy: 0.1116 - val_loss: 8.0590 - val_accuracy: 0.1125\n",
            "Epoch 7/10\n",
            "391/391 [==============================] - 3s 8ms/step - loss: 8.0590 - accuracy: 0.1116 - val_loss: 8.0590 - val_accuracy: 0.1125\n",
            "Epoch 8/10\n",
            "391/391 [==============================] - 4s 9ms/step - loss: 8.0590 - accuracy: 0.1116 - val_loss: 8.0590 - val_accuracy: 0.1125\n",
            "Epoch 9/10\n",
            "391/391 [==============================] - 7s 19ms/step - loss: 8.0591 - accuracy: 0.1116 - val_loss: 8.0590 - val_accuracy: 0.1125\n",
            "Epoch 10/10\n",
            "391/391 [==============================] - 4s 10ms/step - loss: 8.0590 - accuracy: 0.1116 - val_loss: 8.0590 - val_accuracy: 0.1125\n"
          ]
        },
        {
          "output_type": "execute_result",
          "data": {
            "text/plain": [
              "<keras.callbacks.History at 0x7f6ed0891670>"
            ]
          },
          "metadata": {},
          "execution_count": 29
        }
      ]
    },
    {
      "cell_type": "markdown",
      "source": [
        "*Visualize the results of these runs on a Tensorboard. Just put any screenshot of the web interface with the experiments to prove you got it working is enough. (for example- show the training loss on tensorboard)*"
      ],
      "metadata": {
        "id": "61g1QKW8DfsL"
      }
    },
    {
      "cell_type": "code",
      "source": [
        "# Clear TensorBoard logs\n",
        "!rm -rf /content/logs"
      ],
      "metadata": {
        "id": "3AQzW_KrDgQC"
      },
      "execution_count": 37,
      "outputs": []
    },
    {
      "cell_type": "code",
      "source": [
        "#################### TO ADD #######################################\n",
        "!tensorboard dev upload --logdir ./logs \\\n",
        "  --name \"test1\" \\\n",
        "  --description \"test1\" \\\n",
        "  --one_shot\n",
        "\n",
        "##################### TO DELETE ###################################\n",
        "# You must replace YOUR_EXPERIMENT_ID with the value output from the previous\n",
        "# tensorboard `list` command or `upload` command.  For example\n",
        "# `tensorboard dev delete --experiment_id pQpJNh00RG2Lf1zOe9BrQA`\n",
        "\n",
        "## !tensorboard dev delete --experiment_id YOUR_EXPERIMENT_ID_HERE"
      ],
      "metadata": {
        "colab": {
          "base_uri": "https://localhost:8080/"
        },
        "id": "ajiaCQK78KRb",
        "outputId": "af57b4b3-badd-4918-cd3b-e23b37994060"
      },
      "execution_count": 34,
      "outputs": [
        {
          "output_type": "stream",
          "name": "stdout",
          "text": [
            "2023-04-18 07:41:15.374601: W tensorflow/compiler/tf2tensorrt/utils/py_utils.cc:38] TF-TRT Warning: Could not find TensorRT\n",
            "\n",
            "New experiment created. View your TensorBoard at: https://tensorboard.dev/experiment/VlzYJpIpT9mzY79KZm7SyA/\n",
            "\n",
            "\u001b[1m[2023-04-18T07:41:17]\u001b[0m Started scanning logdir.\n",
            "\u001b[1m[2023-04-18T07:41:25]\u001b[0m Total uploaded: 360 scalars, 372 tensors (258.5 kB), 6 binary objects (324.8 kB)\n",
            "\u001b[1m[2023-04-18T07:41:25]\u001b[0m Done scanning logdir.\n",
            "\n",
            "\n",
            "Done. View your TensorBoard at https://tensorboard.dev/experiment/VlzYJpIpT9mzY79KZm7SyA/\n"
          ]
        }
      ]
    },
    {
      "cell_type": "markdown",
      "source": [
        "**Leaky+SGD**\n",
        "![image.png](data:image/png;base64,iVBORw0KGgoAAAANSUhEUgAAAW0AAAE/CAYAAACNR5LeAAAgAElEQVR4nO3dfWwj6X0f8C/J4YsoUe/SarW63RVv9857ez67u45fYfduz+fEgNP09Zo4cY3mjxYF+ldRGwWaJn1Bg8JGCzRF4QSG2/TVRu2ksJPYcVzs1Yc4Pt9tzs65d3sve9TtrkSJK5HUkBxyhkPO9I9HpEjqjZT4DOehvh9AIGc45I8zS3317MOZ5wlks1nXtm1YloXz58+DiIj8KzjoN0BERN1jaBMRKYShTUSkEIY2EZFCGNpERAphaBMRKSQIAIFAYNDvg4iIutBsaTO4iYj8L9gI62CQPSVERH4XDAQCCAaDDG0iIgUEtre33Xq9jlqthmq1Ctu2B/2eiIjoAFowGITrugiFQrBtG8vLy4N+T0REdACt0T1CRET+1wxtnj1CROR/GsDT/YiIVNE85Y/BTUTkf2xpExEphN9AEhEphKFNRKQQhjYRkUIY2kRECmFoExEphKFNRKQQhjYRkUIY2kRECmFoExEphKFNRKQQhjYRkUIY2kRECmFoExEphKFNRKQQhjYRkUIY2kREChnq0E4mk54+j4hItqEObSKiYcPQJiJSiOZVodYuh1Qq1bY+lUod+Hjnc496vPOxbh4/yknqn7Q2EVGrgGEYbmMhk8lgeXm570UawbzfciPUTrJ83Nfu5v2etP5BjxERHcfAukcOaoHuF2pHPX6S1+5GL69x2OMMbCI6KendI40AlXFGxn6vOYhgPKwF323rnoioG571aQ9raHV2f7SuO+wxIqLjkN49IjOk/BaA7BohItk869Nu7cpIJpN7lve73+3jndv2uyvmsPqH1eJFOkTUb56cPQIcfNqczFP+9jtbo5szOPY76+M49Y96jIioV56F9kEGdRrcQa1gBisR+ZlnX0T6DcOZiFTEy9iJiBQy8NBmi5eIqHsDD20iIuqeJ6E9LKe+9bofw7LfROQfbGkTESnE87FHOkfLa13X+ZzOxw87PXC/15N1fvVxL0k/7Hzy/d7nUe+fiE4f6aHduHDmsItejhrOtPW19rPfUKr7PafbYVM77x/2WLdBetQxOOr9s6uFiIABdY/0s8W4X8idJOD2e71+DO/arYNen61sIgIGeHGNzPFBTsrrgDzoMv6jLu8notNnIKF91Ngex9Hv1vsggrtRu5v1RHQ6KX/2yFFfYvbj9WQG5kGvL7suEanJ81H+uv3CcL/Huj17pPGcfp890uucj91+qcqzR4ioWwMf5e8oJ+mq8Kqbwy/TnhHR8PPdKH8qti5VeI9ENBx839ImIqJdyn8RSUR0mjC0iYgUwtAmIlIIQ5uISCEMbSIihTC0iYgUwtAmIlIIQ5uISCEMbSIihTC0iYgU4ruxR/otnU63LZdKJaytreHKlStS61YqFXzve9/D448/Ln2I1Uqlgkwmg4sXL0qtAwAbGxuIRqOYmpqSXuuNN97A5cuXEQzKbVsUi0Xouo6lpSWpdQBgdXUVExMTSCQSUus4joO33noLjz76qNQ6AJDP52FZFhYWFqTXeuedd3DmzBmMjIxIrVOtVnHv3j1cunRJah0A2NzcxLvf/e6utx/60F5cXGxbTqfTmJ6elv4BK5VKAIDx8XHptQzDQK1W8+SXplarIRaLYXZ2Vnqtzc1NLCwsSA/tkZERhMNhT46faZqYmprCxMSE1DqO4yCbzXqyT5qmwTRNT2oVi0XMz89jdHRUah3LsmAYhif71Ct2jxARKYShTUSkEIY2EZFCGNpERAphaBMRKYShTUSkEIY2EZFCGNpERAphaBMRKYShTUSkEN9dxt46Tkcqlepqu6O2JSIaFr4K7WQy2Ra+ncudGNREdNoo2T1yVJgTEQ0rX7W0e9FtNwoR0TDxbWgfNQZ1L90oRETDwlehnUqlmmHden+/7br1yiuvtC07joO7d+9C0+TuumVZAID19XUEAgGptUzTxNbWFqrVqtQ6gBjjOhKJIJPJSK+1srKCQCAg/fgZhoFisQjDMKTWAcQkEolEQvp40K7rYmVlRfpY5ACg6zqq1Sp0XZdea3V1FYVCAbFYTGod27aRTqfhOI7UOgCQy+V6GrfbV6EN9L+ro3OGmkwmg3q9jkceeaSvdToZhoFbt25hfn5eeq1yuYx4PO7JLBujo6OIxWKYmZmRXqtarXoyc02hUEA+n8eFCxek1gHQnPVnfHxcah3HcWDbtvTPHgBks1mYpolz585JrxUMBrG4uIh4PC61jmVZCIVCnhy/XhtAvgrtbrs5eukOCYfDbcvBYBCapu1Z32+NlnwoFPKklhf7NIha4XBYemgP4/FzHGfo9snLWl4fv562l/Q+jqWzS+SgfuvDtiMiGma+Cm3g4ADuXM+gJqLTSMnztImITiuGNhGRQhjaREQKYWgTESmEoU1EpBCGNhGRQhjaREQKYWgTESmEoU1EpBCGNhGRQhjaREQKYWgTESnEdwNG9VvnwOyWZcEwDBQKBal1y+UyADFBgRe1SqWS9DoAUCqVYNs2IpGI9FqNfyfZQ7MWi0VPj5+madIndnAcx5PPOSCOn2VZnh2/YrGIer0utY5XOQGIferF0If25uZm23IjRLPZrNS6pmkCEMEju1alUoGu69LrAMD29rYngQ2g+e8kO7RLpRJ0XZc+mwwgjp/rurBtW2odx3E8+ZwDQD6fR7VaRTQalV5L13VEo1FUKhWpdRoz8Xh1/Hox9KHdOZtLOp1GvV7H8vKy1LqNv54zMzPSaxmGgXA4LL0OICaViMVimJ2dlV6rVCpheXlZemjruo58Po+LFy9KrQMAgUAAU1NTmJiYkFrHcRyUy2VPPhOJRAKmaWJpaUl6rVqthsXFRel/YC3LguM4nhy/kZGRnrZnnzYRkUIY2kRECmFoExEphKFNRKQQhjYRkUIY2kRECmFoExEphKFNRKQQhjYRkUIY2kRECvHdZezJZLJ5P5VKdbXdUdsSEQ0LX4V2MplsC9/O5U4MaiI6bZTsHjkqzImIhpWvWtq96LYbhYhomPgqtFOpVNdh3Es3ChHRsPBVaHfbp91LQN+5c6dt2TRNrK+vY3x8/PhvtAuNSRCy2SxWVlak1qpUKnjw4AE0Tf4/ZyaTQSQSQbFYlF5rfX0d8Xjcs0kQXNeVWgcA1tbWUCwWMTY2JrWO4zhYX1+XXgfYnQRB9sQOgDh+tm33PAZ1r6rVKtLpNGKxmNQ6ALC1tYWFhYWut/dVaMswNzfXtpzL5TA+Po6ZmRmpdRvTjY2OjnpSy7Is6XUAMTh8NBr1pFYmk8HMzIz00A6HwwgEAp7sk2EYmJyclN5ocBwHm5ubnuwTAM8+f9vb25ienkY8Hpdax7IsFItFT/ap16nTlAztXrpDOmcIMQwDo6Oj0n9pGkETi8Wk1wqFQigWi9LrAGIKMC/2CUDz30l2aLuui1qt5sk+jY2NIZFIeBLaXnzOAdEqDYfDnh4/L2au8er4NRp43fJVaB/Wp90a1L30fRMRDRNfhTZwcAB3rmdQE9FppOR52kREpxVDm4hIIQxtIiKFMLSJiBTC0CYiUghDm4hIIQxtIiKFMLSJiBTC0CYiUghDm4hIIQxtIiKFMLSJiBTiuwGj+q1zYHbHcVCr1aQP2F6r1QCIsXK9qOXFPg2ilm3b0odmHcbj59XnHBjO42fbtqf71IuhD+3bt2+3LTuOg9XVVekzUliWBQCezChjmia2trbgOI7UOgCwubmJSCSCbDYrvdb9+/ebExTIZBgGisVi899Mpo2NDeRyOenjQbuui/v37yMSiUitAwC6rqNarcIwDOm1VldXUS6Xpf/+2raNdDotvcEAiIlZlpaWut5+6EP7iSeeaFtOp9MIBAK4evWq1LqlUgm3bt3C2bNnpdcyDAPpdBqXL1+WWgdA8w/e7Oys9FqO4+Cxxx6T/ouj6zry+TwuXrwotQ4gJnaYmpraMzlHvzmOA9d1pX/2ADFdlmmaPQXPcUUiESwuLnoyCUI0GsWVK1ek1gHEH/JesE+biEghDG0iIoUwtImIFMLQJiJSyNB/EUlEp5jrAI4DuO7OrdO+rnl/57ZcAH7wBwjfvY1kxQDmzgFXPwR87K8Nek+aGNpENHiuuzdEXQdw3Lag1co6AoUoUDV21rvtodv5vJ7egwP8t98EttIIAogCQD4DvPkykH4b+MV/LGHHe8fQJqJjcoF6HQHbQrBaASql9hZsWyu2c11nQLtdVQwZOgKlCFDb5zztQGD3JxQCAhoQCO6sa7kNBjrW7dx/8bvAVnr/wj/6Y+CpZ4Ez509wvPqDoU1E7Zw6UK8B9Trg7NzWa/uvBxDa3oZWrQLh7oK3TTAIhHbCNRjcvW3eD7Wtt4sWnNlFYGxsb+j2chFWuQgYOlDSd2//4vnDn7O+wtAmIo84ztEB3FjfZasXABDS4IYjcBAE4olDwnf/EO55N8IxIBIDwlGxolYFijvBa+hAqQCUG7cFEcaNW2Pnseoxr3yt93a5uSwMbaJhULeBWuOnBtgWovoD0Tp06iK0uxUMie6FkLZzv+W2cz2AemQLNdMEZs72Z1/KBaCQB4o5oJgHCru35zKriNUs0RVz3ADWwsDoODA6AcTHxR+beALI3AVWXj34eVPzx9+nPmJoE6nAqYtArtdawnnnp27vbR27LoK2JR4HRMs2tBPGQW03gIP7BLGMsV6q5m74FnNtQby7buf2kBZtvHNFOLoTwDsh3Lgf37nfCOTGz0gCiI81/+C0SaeAL/69/QufexhIvvvYu99PvgrtZDK5Z10qlepq24O2I1JGZxC3Ljv1w58b0kQLMhQWt8EQrIkicPaiCGZZ47eYZWiZu4hlN4DVn7aHb+t9q9L9a46MAePTQGJ653aqubxWrGD6/DJGZs6IUI70ceCoxSTwmX8KfOd3ga213fWX3wv89X/Yvzon5KvQbg3eZDJ5ZBAzqEkproOAbSFQKQGB+t5gPkwgKMJYCwOathPOEXFfC4vHWzkOnHBUbHOi9+wC2XUgtw5kN8T97MbusqFjspvX0cJ7g3ifUMb4tNj2AOW33sLk2UVA1oBR154Crj2F6vpdrKbuIPnENfH+fMRXod2tbgKdaGDqNfEFmb3z07hfryGc30CwlgDssb3P08K7LebGT6PlvN9/5/ulmN8J5kYotwRzLnP4c0Ma6pPzsMemEZs/e3AQj+yzvz7mTi/A2i77LrABn4Z2N6Hc2j3CAKeBqNntody4PagrIxCAq4XhjoyKMOgMZlnjhlfN3TDOtbSWGy3oo77Mm5gFZhaA6bPiy8aZBXE7vQBMziHv4dCs5NPQ7ka3XSnpdPvJ8qVSCblcrucxbHtVqYg+vEKh4EmtbDaLRCIhtQ4gxk6ORqM9z7ZxHI1/J9njaReLRei6vv/A+q6LQM1GoF4Fara4X7MR2O/Lv4ZgEG4oDFeLiJDeCWZXC2Pd0VG2gzDMOoA6ALNv+6HlNhDKrkHLphHaWsOF9AqcrxURLBcOfZ4bjaM2OYf6xBzqk/N7bt2DWvlmHdjYQD6fh2VZ0if7AIBsNgtN0zAyMiK1TrVaRTablf67C4iJRRYWFrreXsnQZst6+AUrRYyUctDyGQRCQQAtV7vt3Hdb7u+ux879INzm/SOeCyDgOghUzd1ArtkI1KoIHHImgxvSmmHc/AlFxNkYkgTqtWYwN3+2xPKBl20HgqhPzqG2TyDXJ+bgKNZ1cdr5LrT73V+9uLjYtpxOpzE9Pd3TX7bjKJVKAIDx8XHptQzDQK1Wk14HEPPZSZ25pqQDhSyguSjEo5hNxBHsutvAbbndJ8DcjtsdY7USRt0KzgSqQBhAWIP41dhpzYUj4gu9zttj/A/ANM3uZq6plIDMvZafu+I2u37wcyZngfkLwJnzcOcfwkqljuT7PgJMzSMEQNafEk3TYJqmJ5+/YrGI+fl5T2auMQzDk33qle9Cuxv8InIIFbfbz9GNxWFNzAOz50Rr2HUANAYVavnpZh0a414csF2jFR6J7R/QMulZ4EFHMGfuifOXDzJ3DjgjwrntJ7p7FrPrODBefdU3F4RQ/ygT2q1BnUql+EXksGhc9bYzjgVicWB8BoiOwNnIi2XJfdp1XUc1lpc7rkQhC6RXMPHqn2PEyIovADP3APOAyXBD2v7BfOa8uAiGTi3fhfZBAdy5nkGtuEJWtK6dvWGtNNsSl46nV4D11M7tihgXA8CeE8hGxvaG8vx5YHZxz0sTAT4MbRpirivCuqQPR1hvru4N6NYr6VrFRoGzyygmZqEtXcLIxUdFQI/PePueSXkMbZLPcUQfrbG9O3BRbFRcdKFCWJd0EcrrK2J8ikZQ16r7b79wETi7DCwuA2eT4nbqDAAg+847mJqawshRX0QSHYChTfLU66LP2tB3w3pkVFwl58ewduod3Ro7AX3Ql4ITMyKUOwO685Jyoj5iaFP/1Wviy8W2sB4TVwH6JaxtC7j/JnDvDcRTryK+dkd8ObifcLQ9lBtBPTru7XsmAkOb+qlmA6Vt0Z3QuNAjPgaMDTis63Xg/hsipO+/Ke5v3G0+3DY80dzS3oDml4LkIwxtOjm7KvqrS/rupd3xBDA2OZiwbgTz/TeBtbeBtTt7JwEIBIBzl4CHHkFl9iFsj87i7PWPHDrCHJEfMLTp+Gxrd469ZliPA2MT3oV1+m3g3pvidu2OCOnOsZuDIWDpcjOkmz87V1pWdR1WPs/AJiUwtKlnAdsC8g/aw7oxc4jMsN64uxvMjZAu6e3bhDQRyItJEdSNgOYFKTQkGNrUk1Ahi5BTBRqnrI1OAGPjQKTPYW1XMX73FQTu3xKn2a29DWw/aN8mHAHOv0sEdGtIs8VMQ4yhTd0rZBGqFIFIRHSBjE70d7onQIy/8fJzwMs3cWGrZVjdSAy4+NjO6XU7If3QI7uzchOdEgxt6k7FEIMbAXAm5poXi/TNay/shPVzzTNP9ItPYPz6kwice1iEtF9OFyQaIIY2Ha1eA/Ji2qn6SALBeJ8mWzD0Zqsa77wm1o1NAtdvANeexj29iqtXryIgecAoIpUMfWi/8sorbcuO4+Du3bvSZ9mwLDGF0/r6OgKyppHaYZomtra2UK0ecFn1CUUKmwhVTThaBKt2EJFtA5nMEXMHHmJk8y4m3n4ZE2+/DK0iZlWpzD4E/eHr0C+9D7WRBFCsYWVlBYFAQPrxMwwDxWIRhnHAiHt9tLGxgUQiIX08aNd1sbKyIn3WHwDQdR3VahW6rh+98Qmtrq6iUCjsP8tQH9m2jXQ6DafzVFEJcrnc8M9c04srV660LWcyGdTrdTzyyCNS6xqGgVu3buHq1m3MPfmk1FrlchnxeByXLl3q+2sHCjkgvjPby/x5aA82EYvFMDPT+0BHwb/4PgI/+T6Cr/6wuc55/MNw3/sktCc+ihkAra9arVZx+fJl6cFTKBSQz+dx4cIFqXUAIBqNYmpqCuPjcq+mdBwHtm1L/5wDYgow0zRx7tw56bWCwSAWFxcRj8eP3vgELMtCKBTy5Pj12gAa+tAOh9vPJAgGg9A0bc/6ftM0DU+vvYDFwj0gVAM++XelzeysaZqcfaqUgLIOaJqYzDU+Ck3L91YrtyG6QH78nDgLBBCnB15/Grj2NIIX3gVg/1lVGnVkh7a04zfAWo7jDN0+eVnL6+PX0/aS3gcBWI/P4eHCPeCH3xbnGH/iM8C73jfot9Wdln5sJKbERTO9eOsnwI9visBuXOxy7pII6+s3OCQp0TExtCV6bephLHzo47j00u8DK68C/+VfAc98Grjxtwf91o6Wz4gxO2JxYHKuu+dUTdGifvk54M2Xd9c//mER1O+V201EdBowtCUzp88Cv/ovgJtfA/70W8AffFlcyffML4txl/1Iz4pT/ILB7k7tW39nt1XdmHg2ntjpArkhzq8mor5gaHthah548m8CFx4D/ugrItzW3gY+/mngfR8f9LtrVymJ2WUAEdiHXV346g93T9lrWHxYtKqvPw1MSJqxnegUY2h7ZXIeOF8Xre7/+w0RdP/j34gxND7xGdENMWj1GpDb6ccenxat5Q7BcgEjP30OeONF4O7t3QeufhC49jRw7SmP3izR6cTQ9kpIE8GdXRet7kvvAb7xW8BzXxet7md+WawbpFxGzN4yMrq3lfzgPvDid3Hmhe8gtDNJLUbGRPfH9aeB5avev1+iU4ih7aVIFJiaE8G9dBn4tf8qgvu1H4l+7o9/WgT6IOhZwDSAUKi9H/vubeDF74qfmo0QgNr8eWjv/4ToBpmcH8z7JTqlGNpei42KoMttiGFFP/154M9vAv/7PwLf/G3RXfKznwFmPJwtpa0fe0H8r+D1l4AX/0ScDdLwyDXkHr4O59rTmJ1lfzXRIDC0B2F0XPQf61uiS+L9nwAe+wDwn34DeOl7orvkE78CvOdj8t9L3RZ/QADRJfL6iyKsX39pd5trTwHvewa48n6UV1ch9wJiIjoMQ3tQxqdF/3ExD2ytA/MPAZ//MvCt3xH93L/7L4GP/xLwc58VLV9ZchkxXdibPwZe/TPg3htifUgDPvLzIqwfkn8pLxF1x3ehnUwmm/dTqVRX2x21rW9NzokWd7ko+rnnl4C/8veBKx8A/vNvAP/nq8DqHeDn/g5w4crRr9ertTvAj/4Y+OmfAttbYt3ELPDhTwE/80z/h18lohPzVWgnk8m28O1c7qRkUHeaXhAtbrO8E9wPAZffC/zmN8UVlD/5/u5pgR/5+f7UfHAf+MG3RGC3XmLeCGtOLEDkW74K7U4HhfJRYa6UQEC0aLfWRIBm14GZs+Kxz/4z0df9P78AfOPfA6tvie6SiWOO23H3NvDCt4EXvrO77uH3AB/7q8ATHz35vhCRdL4M7UbXR7fdI8oHuBbeCe606CoJhXZPpfuZnS8pv/xrInAbwX31g92//usvAX/2h8BPf7C77sr7xRegHA+ESCm+C+3WVvRhLepuu1E6B2a3LAuGYaBQKPTpHe+vXC4DEBMUdFsroI0gmM8AhgGnbMIdm2w8Avzqv0b0+19H9OZXga/8Oqwnn4X15LPNWqVSaU+d8CvPI3LrTxC6+1pznX39GdiX/hKcmbNw5s8DPR6HUqkE27YRiUR6et5xNP6dZA/NWiwW9z1+MpRKJWiaJn1iB8dxPPmcA+L4WZbl2fErFouo1+tS63iVE4DYp174LrS7aTX30rLe3NxsW26EaDab7fm99cI0TQAieHqpFaoHoZXygK7DHp+BExvbffDxG4icuYSFb/0HRJ/7Gup3X0f+g78AfXQGuq4jm80iULeR+H/PI/HT5xHJiYlxndgo9Gs/i9Ll6wjt9GHbbhhOLtfzfm1vb3sS2ACa/06yQ7tUKkHXdemzyQDi+LmuC9u2pdZxHMeTzzkA5PN5VKtVRKPyvwvRdR3RaBSVSkVqncZMPF4dv174LrT7rXM2l3Q6jXq9juXlZal1G389Z2Zmeq+1vSlOBQSAuTPt45IsLwPv/8vA//p3iP/w24jn05h96hcxMrmI5TeeF90gjefOPwTceBbBD3wSUzUbUxvvAK4rBrBqtuJ7Ew6HEYvFPLm4plQqYXl5WXpo67qOfD6Pixflj7oYCAQwNTWFiYkJqXUcx0G5XJb+OQeARCIB0zSxtLQkvVatVsPi4qL0P7CWZcFxHE+O38hIbxNWKxnaQ/VF5H4m58QZJUYByKZF+Hae0fHsPwIe+yDwlV9H9Pd/CxeDIfEcAEi+G7jxLHD1Q7vb5zZEYI+OHzuwiWjwfBXaqVTqwC8YW4P6sO2GxvSCmITANHZPBQx2TMr1+IeBf/td1H/7nyD01o/FGSA3nt17Tvf2pjgzJRwRr0tEyvJVaAMHB3Dn+qEM6k4zC8DmKlC1dq6a3Oe/n8EQzM/+c2y+/gouXv/Q3sfLxd3uEgY2kfLkdhbSyQRDImhDGmCVd2eF2Yc9vk8fc83efc70GSDCUUOIVMfQ9rtwVAQuIFrN25uHb9+qEdijE+KHiJTH0FZBbHS3a6OY3+3uOEz+gZhotzX0iUh5DG1VjI7vziazvQmUDznp3ygApW1xv3FJPBENBYa2Ssand0/Xy26IQaY61aq742NPL4gzRohoaDC0VTM1L+ZmBESftV1tf7zRjz02KVrnRDRUGNoqmjkrzgRx6iKkGxfV5DPi9MBITIQ7EQ0dhraKAgER3KEwYFsI5jIImSUx5yTAfmyiIcbQVpUWBmbPigCvVqAVdwZ/mjkrHiOiocTQVlkk1t6qTkwB8cTg3g8RScfQVt3IGNyJWbhaRAw0RURDjaE9BNzRCdgTDGyi08B3A0b12507d9qWTdPE+vo6xsflng7XmAQhm81iZWVFaq1KpYIHDx4gFJE/CH0mk0EkEkGxWJRea319HfF43LNJEFzXlVoHANbW1lAsFjE2Nnb0xifgOA7W19el1wF2J0GQPbEDII6fbds9j0Hdq2q1inQ6jVhM/ng9W1tbWFjofjC3oQ/tubn2Fmgul8P4+DhmZo45OW6XGtONjY6OelLLsizpdQAxOHw0GvWkViaTwczMjPTQDofDCAQCnuyTYRiYnJyU3mhwHAebm5ue7BMAzz5/29vbmJ6eRjweP3rjE7AsC8Vi0ZN96nXqtKEP7c4ZQgzDwOjoqPRfmkbQxGIx6bVCoRCKxaL0OoCYAsyLfQLQ/HeSHdqu66JWq3myT2NjY0gkEp6Ethefc0C0SsPhsKfHz4uZa7w6fo0GXrfYp01EpBCGNhGRQhjaREQKYWgTESmEoU1EpBCGNhGRQhjaREQKYWgTESmEoU1EpBCGNhGRQnx3GXsymWxbTqVSJ9qOiGiY+C60ge4DmEFNRKeNr7pHkslkV0Hc7XZERMPGdy3t1m6Pw4K52+2IiIaJ70K7NYAPa1F3u13nwOyO46BWq0kfsL1WqwEQY+V6UcuLfRpELdu2pQ/NOozHz6vPOTCcx8+2bU/3qRe+Cm0Zfdm3b99uW3YcB6urq9JnpLAsCwDw4AHINRIAAAYvSURBVMEDaJrcw2yaJra2tuA4jtQ6ALC5uYlIJIJsNiu91v3795sTFMhkGAaKxWLz30ymjY0N5HI56eNBu66L+/fvIxKJSK0DALquo1qtwjAM6bVWV1dRLpel//7ato10Oi29wQCIiVmWlpa63t5XoS3DE0880bacTqcRCARw9epVqXVLpRJu3bqFs2fPSq9lGAbS6TQuX74stQ6A5h+82dlZ6bUcx8Fjjz0m/RdH13Xk83lcvHhRah1ATOwwNTW1Z3KOfnMcB67rSv/sAWK6LNM0ewqe44pEIlhcXPRkEoRoNIorV65IrQOIP+S98N0Xkf3cjoho2PiqpZ1KpQ78grG13/qw7YiIhpmvQhs4OIA71zOoieg08lX3CBERHY6hTUSkEIY2EZFCGNpERAphaBMRKYShTUSkEIY2EZFCGNpERAphaBMRKYShTUSkEIY2EZFCGNpERArx3YBR/ZZOp9uWS6USDMPAm2++KbVurVbD4uIiyuWyJ7VKpZL0OoA4fpqmIZfLeVLrzp070utUq1WYpolqtSq9VqFQQKlUQiaTkV7Lq8+EaZqo1Wool8vSa21vb8O2bekTiziOA13XPTl+5XIZCwsLXW8/9KG9n9nZWYyNjUmvs7S0hJmZGYRCIal1qtUq6vW6J/vkOA40TUM8Hpdeq1QqebJPpmkiEAh4Usu2bYyMjEifeQXw7vgFg0HUajVPalmWhXg8Ln1Gnnq9DtM0PdmnXg19aC8uLrYtN1renetlyOVymJ+fRzQalVqnVCrBsixP9qlWq2FkZARzc3PSa2UyGSwsLEifuWZ7exvZbNaT41epVDA9PY3JyUmpdRzHQSaT8WSfNjc3UalUPKlVLBY9aXRZlgVd1z3Zp87egKOwT5uISCEMbSIihTC0iYgUEjAMw20sZDIZLC8vD/L9EBHRIdjSJiJSCEObiEghDG0iIoUwtImIFDL0F9cMSjKZbN5PpVKe1JNdx8t98vr4NWrKrNW6T4Dc/fLq+HXuk8x6w/756xZDW4LOX36vw0BWDa/2yevj16jhhUH8AZd5/IbxMzGIz18v2D2iOK8+UF5+aP30C9Ivg/zFH8bjeZoxtBXHX8iT8ypQk8lk88cLXtfiZ9Eb7B6hnnkZcsDw/GHyusus8frDEKipVGpg33P4DUObfMuL0BnG7qVB1JPN63761gaD34KboU09GYZWW6fWX8ph3D/ZhvGY+Xl/2KdNXfO6W8QLqVSq+dNYlsFvrTU6mN//rdjSlmBQ/W8yNfbHi/0axuPn5T7x+KlT6zg4yh8RkULYPUJEpBCGNhGRQhjaREQKYWgTESmEoU1EpBCGNhGRQhjaREQKYWgTESmEoU1EpBCGNhGRQhjaREQK4YBRA/BCuo7P37SwWnT68npLiSC+cCOKDy6G+vJ6RORfp3rAqOSXSn15ndQ/GOtp+4/+dwNrRffoDXuwlAji+V+J9/U1ich/fNHS3i88O4Owm21U0Qjso95/wRLbjUcDh26X/FKpb612IvI3X4Q27e+XvllBIAD84d9iC5qIBF+F9mEtz9bH+tWt4Wefu2nidla0nj//nIUvPBUd8DsiIj/wVWh7zc/dK1+8EcMXbwz6XRCR3/CUPyIihfiipd1ri7dfLeRBnT3S6XM3TXzxRkz6c4hIfWxpD1DBcvGpr5fxe2/Uen7u771Rw6e+Xm6eYUJEpwNDe8DcE2TuSZ5LRGryRffIoAz6i8jxaAB/9Gwcn7tp9vzcv/Goxu4RolPIFy3t5JdKPfUv97q93x0nfBnYRKfTqW5p++WLSCKibp3q0Pazz900m19QsiuEiBp8FdqtLd9uxh45KT+3kL94I4bXtsrN+0REgM9Cm9p99RdGBv0WiMhnfBHa3bR4ZbSKB9WnnYgEUKy6ff3fw7nE4SMBEtFw8EVoD8qgukd+55MxfO6m2bcxtc8lAuxCITolTvUkCEREqvHFedpERNQdhjYRkUIY2kRECmFoExEphKFNRKQQhjYRkUIY2kRECmFoExEphKFNRKQQhjYRkUIY2kRECmFoExEphKFNRKQQhjYRkUIY2kRECmFoExEphKFNRKQQhjYRkUIY2kRECmFoExEphKFNRKSQ/w9GBph3aiL9SAAAAABJRU5ErkJggg==)\n",
        "\n",
        "**Leaky + Adam**\n",
        "![image.png](data:image/png;base64,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)\n",
        "\n",
        "**Tahn + SGD**\n",
        "![image.png](data:image/png;base64,iVBORw0KGgoAAAANSUhEUgAAAXQAAAE0CAYAAAA8O8g/AAAgAElEQVR4nO3dy28bWb4f8C/fL1FvyTL1ptv2uN3dGWAWN5ss0usLZBEkQID7D+QPmPtH3PkDZpVdgCwu7iJAshqgAySbi4ExwHR7xu22TYmiRFni+1FkvViVBVE1JC1RlMRTRR5+P4BgUaR5qkrUl4e/OnVOwLZtG0RENPeCfm8AERFNBwOdiEgSDHQiIkmET05O/N4GIiKaggBPihIRyYElFyIiSTDQiYgkwUAnIpIEA52ISBIMdCIiSTDQiYgkwUAnIpIEA52ISBIMdCIiSTDQiYgkwUAnIpIEA52ISBIMdCIiSTDQiYgkwUAnIpIEA52ISBIMdCIiSTDQiYgkwUAnIpIEA52ISBIMdCIiSUgV6Nls1tP/R0Q0S6QKdCKiRcZAJyKSRFjUEw+WMXK53NDPc7ncrfeP/t+77h+9b5L77/KY9h/bNhHRQwVs27an/aROaN902wm8x9x+6HNPsr2Pbf+2+4iIRPOs5HJbz/WmwLvr/sc89yTu8xzj7meYE5GXpl5yccJVxMiRm57Tj9Ac1/Of9FMBEdG0CauhyxpooyWVwZ+Nu4+ISLSpl1xEBtishSPLLUQ0S4TV0AfLI9ls9ovbN30/6f2jj512eWdc++Pa4gVKROQnIaNcgNuH/okctnjTqJJJRprcNDrlIe3fdR8RkUjCAv02fg3lu633zNAlIlkIOyk6axjcRCQ7XvpPRCQJz0suREQkBnvoRESSEBLosgzfu+9+yLLfRDSf2EMnIpKE8LlcRmctHPzZ6P8ZvX/cEMebnk/U+PGHXsY/brz8Tdt51/YTEY1lC3B8fDzx7bsee9fzT/pck953fHzs3h78fpJte2h7k/x/IqK7eFJymWZP86Ze7GNq1zc93zSm4J3Ubc/P3jkR3ZdnFxaJnG/lsbwOz9umPrhrSgQionE8CfS75kp5iGn3+v0IdaftSX5ORHSXuRvlctcJ1Wk8n8gwve35RbdLRPITPtviJCM4HjvKxfk/0x7lct81Qsd9EuEoFyISbeYu/X9M+cOr0smsLIVHRDTI99kW57FXOg/bSESLZ+Z66ERE9DBzd1KUiIhuxkAnIpIEA52ISBIMdCIiSTDQiYgkwUAnIpIEA52ISBIMdCIiSTDQiYgkwUAnIpKE73O5TFuxWBy63W63cXFxgVevXgltt9vt4g9/+AO++eYb4dPgdrtdXF1d4ejoSGg7APD582fEYjGsra0Jb+v9+/d4/vw5gkGx/YxWq4VGo4G9vT2h7QDA+fk5VlZWkE6nhbZjWRY+fPiAly9fCm0HAGq1GjRNw87OjvC2Tk9P8eTJEyQSCaHt6LqOs7MzfPXVV0LbAYBSqYRvv/1WyHNLF+iZTGbodrFYxPr6uvAXX7vdBgAsLy8Lb0tRFJim6ckflGmaiMfj2NzcFN5WqVTCzs6O8EBPJBKIRCKeHD9VVbG2toaVlRWh7ViWhUql4sk+hcNhqKrqSVutVgvb29tIpVJC29E0DYqieLJPIrHkQkQkCQY6EZEkGOhERJJgoBMRSYKBTkQkCQY6EZEkGOhERJJgoBMRSYKBTkQkCQY6EZEkfL/0f3Dek1wuN9Hj7nosEdEi8jXQs9nsUDCP3h7FECciut1clFzuCnoiIpqBksukJi3NEBEtqpkJ9LvmEL9PaYaIaBH5Gui5XM4N8sHvb3rcpH788ceh25ZlIZ/PIxwWu6uapgEALi8vEQgEhLalqirK5TJ0XRfaDtCfozwajeLq6kp4WycnJwgEAsKPn6IoaLVaUBRFaDtAf4GQdDotfD5v27ZxcnIifC55AGg0GtB1HY1GQ3hb5+fnaDabiMfjQtsxDAPFYhGWZQltBwCq1aqwedd976FPu6c9ujLR1dUVer0eXrx4MdV2RimKgjdv3mB7e1t4W51OB8lk0pPVVVKpFOLxODY2NoS3peu6JysWNZtN1Go1HB4eCm0HgLva0/LystB2LMuCYRjCX3sAUKlUoKoqdnd3hbcVDAaRyWSQTCaFtqNpGkKhkCfHT2TnaKZGuTz2cQAQiUSGbgeDQYTD4S9+Pm3OJ4BQKORJW17skx9tRSIR4YEu4/GzLEu6ffKyLa+Pn7DnFvbMExgts9xWJx/3OCIi6pvZksvozxniRETjzcU4dCIiuhsDnYhIEgx0IiJJMNCJiCTBQCcikgQDnYhIEgx0IiJJMNCJiCTBQCcikgQDnYhIEgx0IiJJMNCJiCTh++Rc0zY66b6maVAUBc1mU2i7nU4HQH/xCS/aarfbwtsBgHa7DcMwEI1Ghbfl/J5ET5/barU8PX7hcFj4oh2WZXnyOgf6x0/TNM+OX6vVQq/XE9qOVzkB9PdJFOkCvVQqDd12ArZSqQhtV1VVAP1QEt1Wt9tFo9EQ3g4A1Ot1T8IcgPt7Eh3o7XYbjUZD+CpCQP/42bYNwzCEtmNZlievcwCo1WrQdR2xWEx4W41GA7FYDN1uV2g7zgpMXh0/UaQL9NFVfIrFInq9Ho6Pj4W267zrbmxsCG9LURREIhHh7QD9BUPi8Tg2NzeFt9Vut3F8fCw80BuNBmq1Go6OjoS2AwCBQABra2tYWVkR2o5lWeh0Op68JtLpNFRVxd7envC2TNNEJpMR/uaraRosy/Lk+CUSCWHPzRo6EZEkGOhERJJgoBMRSYKBTkQkCQY6EZEkGOhERJJgoBMRSYKBTkQkCQY6EZEkGOhERJLw/dL/bDbrfp/L5SZ63F2PJSJaRL4GejabHQrm0dujGOJERLebi5LLXUFPREQzUHKZ1KSlGSKiReVroOdyuYmD+j6lGSKiRTQXNfT7hPfHjx+HbquqisvLSywvLz98QyfgLHBRqVRwcnIitK1ut4vr62uEw+J/fVdXV4hGo2i1WsLbury8RDKZ9GyBC9u2hbYDABcXF2i1WlhaWhLajmVZuLy8FN4O8LcFLkQv2gH0j59hGELnEAf6C1wUi0XE43Gh7QBAuVzGzs6OkOeem5LLpLa2toZuV6tVLC8vY2NjQ2i7zhJ0qVTKk7Y0TRPeDtCf+D8Wi3nS1tXVFTY2NoQHeiQSQSAQ8GSfFEXB6uqq8A6FZVkolUqe7BMAz15/9Xod6+vrSCaTQtvRNA2tVsuTfRK5nN5cBPp9SiyjK8MoioJUKiX8D8oJoXg8LrytUCiEVqslvB2gvyycF/sEwP09iQ5027ZhmqYn+7S0tIR0Ou1JoHvxOgf6vdlIJOLp8fNixSKvjp/T+RNhZmvogyF+n1o7EdGi8r2Hfls4j/6cIU5ENN5cjEMnIqK7MdCJiCTBQCcikgQDnYhIEgx0IiJJMNCJiCTBQCcikgQDnYhIEgx0IiJJMNCJiCTBQCcikgQDnRaOpmnQdR2apgmdypTIa75PzjVto5PuW5YF0zSFT8ZvmiaA/lzHXrTlxT750ZZhGMKmz7UsC91uF5qmwTRNKIoCoD/1cTgcRjgcRigUmmqbXh0/r17ngJyvP8MwPN0nUaQL9Hfv3g3dtiwL5+fnwlci0TQNADxZSUhVVZTLZViWJbQdACiVSohGo6hUKsLbKhQK7uIT02ZZltsbV1UViqKg1+vBsqwvVi4KBoMIBoNT2Y7Pnz+jWq0Kn8/btm0UCgVEo1Gh7QBAo9GAruvuG6JI5+fn6HQ6wv9+DcNAsVgUPhc/0F90Z29vT8hzSxfo33333dDtYrGIQCCA169fC2233W7jzZs3ePr0qfC2FEVBsVjE8+fPhbYDwH0z3NzcFN6WZVn4+uuvp/5H1e123Z5XNBqFpmmo1Wo4Ojpy2zVNE71eD6ZpugEfCAQQiUTc3vtDpFIprK2tfbHwyrQ5b0yiX3tAfwk1VVWFhdKgaDSKTCbjyQIXsVgMr169EtoO0H+TF0W6QCdyWJaFTqfjfpJJJBKIRCLupylHMBh0e7aj4a7rOnRdd8M9FAohHA4L+RRB9FgMdJKSYRjodrsAgHA4jHg8PlHPfzDcnaXqnIDXdR1Av+fu9NoZ7jRLGOgkncESSywWQywWe9DzOL3ySCTyRbgbhuG2Mdhz96IGS3QbBjpJY7DEEggEkEgkpnaCejTcnZKMMzLCCffBnjvDnbzGQCcpPLTE8hCDJRcAQz1353tnO5yRNEReYKDT3JtWieWhRsN9MNhN00S320UsFmPPnYRjoNPcEllieSgntGOxGHq9HkKhEILBoBvuTu/eGQ5JNE18RdFc0nUdqqoC6IdoIpGYudEmzonSRCKBZDI5VG83DMO9X8QVqrSYGOg0d1RVdYcQxuNxT66OfKzBnrsT7E55RtM0nkylqWCg09xw5mLp9XoIBAJIJpNz17MdHC0zWmsfLMk4ZRmi+2Cg01i6riMUCrn1YL+MjmKZxRLLfYVCIYRCoS967U5JRtM0t9Y+b29c5A9fAz2bzX7xs1wuN9Fjb3scTY9pmrAsC4ZhDM1M6NR+nRN+os1jicWhaRoURXGPl/M1etycXrlt226wm6YJTdNYkqGJ+Rrog6GczWbvDGmGuLecEHXCyBlT7YS8YzCophny81ZiabfbaDabQ1+3CQQCQ2+Mg1+jb5aBQMB9vDM1gfM1eMxHZ42kxTMXJZdJwp6my5mkyqn5plIp9wpJZyra0e8dTvgMft23PDJaYkkmk1Pdv8dSFAWtVmsovG+6gCgSibjj4p3j5HwNXoQ0Le/evUMmkxE+uyPNppkI9EkCe7DkwnAXz+mdD4axc8JukNNjHwx3581gMKycUs3g121mrcSiKAra7fZQgN8UxMlkEul0GsvLy1heXkY6ncb5+fmN0+c6b45OsN8U9qM/c35uGIb7/eDx7/V6uLi4wMXFBZ4+fYrd3V2srq56dZhoBsxEoE9i0vJMsVgcut1ut1GtVoXOQQzA7U02m01P2qpUKkin00LbAIB6vY5ut3uvnqRt227QON/fVA5wFpJwFpOoVqvI5/MA+m8e0WgUnU5nOjs0oNVqodFo3LhogqZpUFXV/bpt32OxGOLxOOLxOBKJBBKJxNCblFP7LpfLQ582JnXXmx6ALz4pnZ2dYXV1FY1GA5eXl7i8vMTKygrW1tawtLR0r/bHqdVqbl1ftEql4p4EF0nXdVQqFeF/u0B/0ZidnR0hzz0Xgc4eubecAHtIqQQYLrk4bgp552vwMbZtIxwOe9Irdy5OGgzvm5Yguyu8/eK8GUYiEXe7V1ZWsLq66nZkGo0GGo0GlpeXsba2JrQTQP7zPdCnXR/PZDJDt4vFItbX14W9Izra7TYAYHl5WXhbiqLANE1h7bTbbViWhUQigWAwKGzFotFSTb1eRyaTEbrcmKqquL6+hqIo+OWXX764f2lpyf1Kp9NIp9OPenNRVdWzFYtqtRo2Nzdh2zYymQyCwSCKxSIuLi7cUtHm5iZ2d3extbX14LbC4TBUVRX+Ogf6n6a2t7c9WbFIURRP9kkk3wN9Ejwp6h2nLhsKhYRf2OL0MB2ie+aFQgH5fN6dMsAJ7cEA97te/xjOfDadTgeqqiKRSODg4AB7e3u4uLhAsVhEuVxGuVzG2toa9vb28OTJE783m6ZoZgN9MMRzuRxPinrEWZ5NpqsUK5UK8vk8qtUqAGB1dRVLS0v41a9+5fOWTZ9Tb+52u+h2u+6J7P39fezv77snTWu1Gmq1GvL5PA4ODua+Z0p9vgf6beE8+nOGuHhO6SMYDEoxE6Cqqjg9PcX5+TmA/oLNh4eHSKVSqNVqPm+dOM4iHM65gcGa/+7uLnZ3d3F5eYmLiwvU63W8ffsWuVwOR0dHX5Qsab7M/18tTY3TO5fhasRCoYDT01N3n46OjnB4eIhIJIJGo+Hz1okXjUZhWZZ74jeZTA6d4H769CmePn2Kz58/o1gsolqt4q9//Ss+ffqEo6Mj7O3tzf3UCouIgU4A4F5yDsx3uaVSqeD09NTtgW9vb+Pw8HAhL7SJx+Pu77Xb7d54cdbOzg52dnZwfX2Ni4sLVCoVvH//3g32g4ODuX9zXyQMdALwtwuJnAWP502320U+nx8qrxwdHeHp06c+b5m/EomEu8B1t9u9dTz39vY2tre3USqVUCwWUSqV8PHjRzfYDw8PpSjDyY6/IQIwPG/LvDk7O0M+n4emaQgEAjg8PMTR0dFc7osIzsgXwzAQCATGDgvd2trC1tYWKpUKLi4ucH19jZOTE5ycnODg4ABHR0cebjndF1/xBMMwYNu2J0MVp6lcLiOfz7O8cofB4Yy6riMQCNy57urGxgY2NjZQrVZRLBbx+fNnnJ2d4ezsDBsbG7xAaUYx0Gmo3DIPut0uTk9PcXFxAaA/nvzw8HDhyyvjOBeIdbtdaJrmXmF6l/X1dayvr7tj2S8vL1GpVNyhoJlMBru7u1heXvZgL+guDPQF58wFMi9DFc/OznB6eur2NFnfnVw4HHZDfXCM+iRWV1exurqK/f19fPr0CfV6fWgysFAohJ2dHYa7z/hXsOAGa+ezPJphtLzy5MkTHB4eMjzuaXCMujPy5T4nwZeXl7G/v4/19XVEo1FUKhWUy2WYpumGeyQSwfb2NsPdBwz0BTYPQxU7nQ7y+fxQeeXo6IhXNj5CNBqFbdvQNM0N9fu+mYdCIXcsuzNTYblcRqVSgWEYbrjHYjF3/hiGu3gM9AU260MV8/k88vk8dF1HMBh0R6/M4rbOm1gsBtu2oeu6G+oPvZAoGo0OhbsT7OVyGZqmueGeSCSwtbWFnZ0dhrsgDPQFNqtDFUulEvL5POr1OgCWV0SZ5MKj+4pGo8hkMshkMtA0bajn3u123ZEyS0tL2NzcxPb2Nn+vUzRbf8nkGV3XZ26oomma+Pnnn91FStLpNA4PD1leEcgJddM0oarqVKcujsViQ+E+2HNvt9tot9s4PT3F8vIyNjc3sbm5yXB/JOkC/ccffxy6bVkW8vm88F6oM2fI5eWl8DkwVFVFuVx2e9gPYZqmG+jj6qelUgnRaBRXV1cPbusutm1DURQ0m013QeRUKoVUKuUOkZsmZz1QRVGm+rw3+fz5M9LptPD5vG3bxsnJyYNObDvL4dm27S4VOE6j0YCu6w+aEycUCmFzc9Nd0UnTNHeu9lwuh2g06i4oEg6HcX5+jmazKXSOfKB/LUaxWLxxXdhpq1ari71i0X28evVq6PbV1RV6vR5evHghtF1FUfDmzRtsb28Lb6vT6SCZTOKrr7560P/v9XrodDoIBoN31k5TqRTi8Tg2NjYeurljObP+KYqCQCCAra0tHBwcTHXJtFHNZhO1Wg2Hh4fC2nDEYjGsra0J73lalgXDMB782uv1euh2u7BtG7FYbOy88JVKBaqqYnd396Gb61JVFdVq1f3SdR26rqPVamFtbQ3r6+vY3d0V9vpzaJqGUCgk/G8XgNDOkXSBPlo+cMZXiy4rOJ8AvChhhMPhR+2TaZruYhJ3Lejw2LZuc319jUKh4A5DXFtbg23b+Pbbb4UPnxS1T362ZVnWo9qJRCIIh8PodDro9Xruz24yzX2KRCJuac1ZK9dZhMN5bTQaDSQSCXfxbWcB7ml+6n7s8bsPkdUC6QKdxnN6coA/QxXr9TrOzs5wfX0NoF8n39/fRyaTwU8//eT59tDf3LY4hlcSiQT29vawt7eHbreLcrmMs7Mz96Rtt9t1e7fhcHgo4JeWlqZyUnfeMdAXjF9DFRVFQaFQcGdDjMViODg4wP7+/kxf0LRoxi2O4aVEIoH9/X137dJer4dms4lGo4Fms4lut+uWaRzpdNrtvTtLC0667aqqwjAM6Lo+18sQMtAXjNM796rnZRgGzs7OUCgUYJomgsEgDg4OcHBwMNd/ODIbvPDopsUxvBYMBpFOp7G6uur+rNPpoF6vuydUm80mWq0WWq2W+5hYLPZFwI9OH3x1dYVPnz6h0+kA6JcC19fX8fLlS+EnskVgoC8Qr4cqFgoFnJ2dodvtAgD29vawv78/l38oiyYWi7nluWmNUZ+mZDKJZDI5tGRetVpFrVZzA17TNJRKJZRKJQD9NwYn4J3e+9u3b7947mq1irdv3+Lv/u7vPNufaWGgLxCvauefP39GoVBwh7U9efIE+/v7Qz0smn2TLo4xK5yZIR3OhU2VSsUt09TrdfeCtXFarRbq9frcvWYZ6AvCNE30ej2hJ7qq1SrOzs5QLpcB9EeuHB4eYnNzU0h7JN59FseYNYMXNjkajYYb8neNo1dVVfQmTh0DfUEMngyd9knIVquFQqHgXuHJ+cnlcdPiGPNsZWUFKysryGazePfunTvp203mcV8Z6AvAsiyYpglguuUWTdPcE56WZSEajboLC5M8gsGgG+qaprmvpXl316pLIi9uE4WBvgCmPVTRsiz3hKezjufx8TEODg5mZl4Ymq5QKDTUU3dOmAaDQQSDwbnsze7u7uL8/BztdvuL+zKZzFyevGegL4BpDlUsFosoFAru8LDd3V0cHh7O3CgImj5nxSMA7olSRyAQcMPdCfjB27MoEAjgN7/5DU5PT1GtVqGqKtLpNDY3N+f2U6bvgZ7NZt3vc7ncRI+767H0N9MaquhctedcyLG9vY2joyPOjrdgotEoIpEIer0ewuEwLMuCbdvuBF/OtAGjbgt6v3v3kUgEz58/h6ZpyOVyX8wFNW98DfRsNjsUzKO3RzHE7++xQxWdy62deTVWV1dxdHTEkSsLzAn0wU9llmW5X7ZtD/07+HWTwZCfh579LPO9hz7otsC+K+jpZoZhPGqooqIoyOfzAPqzLh4dHXHkCt1oXADfFPCj39/Wu9d1HYqiwLZtd2rlwS8AN/588L5FMhOB7pRTJi25MNwnM9g7f0hv5/379wD65ZXvvvtuqttGiyMQCIw9GT8u6B0Pnad80jcBZ32Aeed7oA/2vsf1xCctzYxeLKBpmrt4gkjOXBCqqnrSVrvdHtuOZVnuSater3fvxTCKxSKq1Sqi0SjS6bTwfQLg/p5Ef9RutVp3Hr9pabfbCIfDwnuKlmV58joH+sfPWZhCNF3X3cU3nC8AE9+elGEYnh2/m0bVTIvvgT5Jb/s+PXJn3gaHE7DTXvVmlHNVmaIowtvqdrvuFW+3ca4MDQaD977iTdM0d1bEUCjk1s9Fc35PogO93W6j0Wh4MiytXq+763aKZFmWJ69zAKjVatB1HbFYTHhbjUYDsVjsUVdtDob84L/O987vx8vjJ4rvgT5to6v4FItF9Ho9HB8fC23Xedfd2NgQ3paiKIhEIre2Y9s22u02bNtGIpG49wnRP/7xjwCAZ8+eIRKJIB6Pe3IStN1u4/j4WHigNxoN1Go1HB0dCW0H6H+0X1tbw8rKitB2LMtCp9MR/toD+hfkqKqKvb094W2ZpunJmHBN0xAMBj05fiLnxJmL08ijQxZpvMcMVfz48SOazSbW19c9eXET0fT42kPP5XK3nuwcrJOPexx96aGX+VerVZyeniIQCDx4vVIi8o/vJZdJToKOexwNe+hQRcuy8PPPPwPol614wRDR/JmLkgtN7qFDFX/55Rd0Oh1sbm7i8PBQ1OYRkUAMdIn0er0HlVuur69xfn6OcDiM58+fi9o8IhKMgS6RwUm4Jp1VUdd19wKir776ai5nmCOiPga6JJzpTIH79c4/fPgATdPw5MkTT4ahEZE4DHRJGIZx76GKxWIRl5eXiMViLLUQSYCBLon7znne6XSGSi3ztFYkEd2MgS4BwzBgWRYCgcDEvfMPHz6g1+shk8lwBkUiSTDQJXDfoYqFQgGlUgnJZJKlFiKJMNDnnGma9xqq2Gw2h0otXAOUSB4M9DnnhPmkQxU/fPgAANjf38f29rbQbSMibzHQ59h9hyqenJygVqshnU6z1EIkIQb6HLvPUMVarYZPnz4B6JdauF4jkXx8n5xr2j5+/Dh0W1VVXF5eCp9sypmAv1Kp4OTkRGhb3W4X19fX7jJdoVBo7HBF27ZxcXEBoL/Ic7PZnHhllqurK0SjUbRarals+ziXl5dIJpOeLXDhxZJjFxcXaLVaWFpaEtqOZVm4vLwU3g7wtwUuRC/aAfSPn2EYQucQB/pXTBeLRU+G75bLZezs7Ah5bukCfWtra+h2tVrF8vIyNjY2hLbrLEGXSqU8aUtVVSwvLyMQCCAej48NwUKhAE3TsLS0hBcvXtyrLU3TEIvFhO8T0H/z2NjYEB7okUgEgUDAk31SFAWrq6vCOxSWZaFUKnmyT0D/deFFW/V6Hevr60gmk0Lb0TQNrVbLk326aTHsaZEu0EdXhlEUBalUSvgflBNC8XhceFuhUAjxeBypVArRaHRsr6JUKuHy8hIA8PLly3tvW7PZ9GSfALi/J9GBbts2TNP0ZJ+WlpaQTqc9CXQvXudAvzcbiUQ8PX5erFjk1fFzOn8isJA6h5xFc4HxV4bquu6Oann27BnW1tY82T4i8gcDfQ4NDlUcF+ifPn1Cp9PxZJ1TIvIfA33OTHoh0eXlJS4uLhAKhfDs2TOvNo+IfMRAnyO2bbujaYLB4K2B3ul03FJLNpvlcnJEC4KBPkc0TXMn4Rp3VeinT5+g6zq2t7e5nBzRAmGgzwnDMKDrOgAgGo0iEAjc+LhCoeCOHWephWixSDdsUUaWZUHTNAD9ML9tHGuz2RwqtXA5OaLFwh76HHBKLaFQCLFY7NbHffr0CZZl4enTp1xOjmgBMdBn3OAl1rFY7NZSy8nJCSqVChKJBEstRAuKgT7Der2eW2qJxWK3jjkfnHgrm81yOTmiBeV7DT2bzQ7dzuVyj3qcTDRNg23bCIfDt5ZaLMtyw3x3d5fLyREtMN8DHZg8nBchxB2aprkXEN1VN6/X61haWmKphWjB+VpyyWazE4X0pI+ThWmabqklHo/fOua8VCohn88D6B+jaDTq2TYS0ezxvYc+WEoZF9qTPm7e2bbthnkkErk1pHu9nltqOTg44HJyROR/oA+G87ie+KSPG51037IsmKYpfDJ+pzzS6/Ue1ZamadB1HYFAALFY7MbnMk0TtVoNipGJJEEAAAfkSURBVKIgnU7j4OBA2P45c8d4sZiB047o6XO93icv2vLqdQ7IefwMw/B0n0TxNdBF1M7fvXs3dNuyLJyfnwsf+eH0qq+vr8fOgDiOZVnuRUOhUOjWYGs2m1AUBUC/F+/01EUolUqIRqOoVCrC2nAUCgV38QmRFEVBq9Vyf2ciff78GdVqVfhFXrZto1AoeFJ2azQa0HXdfQ2KdH5+jk6nI/zv1zAMFItFT5ZmrFarwq4T8b2HPm3ffffd0O1isYhAIIDXr18LbbfdbuPNmzd4+vTpg9qyLAvdbhe9Xm/sohUXFxfughXHx8fCT4Q6b4abm5tC2wH6x+Drr78W/kfVaDRQq9VwdHQktB2gv2jH2traFwuvTJuzHKHo1znQX0JNVVVPLl6LRqPIZDKeLHARi8Xw6tUroe0A/Td5UXw/KTrNx80zTdPQ6/UQDAZvHdWSz+fdTyCpVIqjWohoiO8ll9tOdg7Wycc9TgaDV4PG4/EbSw4fP37E6ekpAGBnZ2fsUEYiWky+l1wmOQk67nHzrtfrubMo3nY16M8//4zz83MA/Te6J0+eoFgserqdRDT7eOm/z3Rdv3XiLdu28dNPP7lh/vLly4UoPxHRw/jeQ19ko6WWQYZh4KeffkK1WnVP6u7s7PixmUQ0JxjoPhl3NWin08Hbt2/RbDYRjUbx+vVrbGxs+LWpRDQnGOg+0XXdnXhrcOxwo9HA27dv0e12kUql8Pr1a64JSkQTYaD7YHDircFSS6VSwdu3b2EYBlZWVvDNN98gkUj4tZlENGcY6B4zTdMd1ZJIJNyLaD5//oy3b98CADY3N/HNN988+IpTIlpMTAwPORNv2baNSCSCSCQCoH/J+/v37wHgwVeaEhEx0D3kXA0aCATcUsvJycnQrIkvXrzwcxOJaI4x0D1iGMZQqSUQCOCXX37B2dkZAODZs2c4Pj72cxOJaM4x0D1gWZYb5tFoFOFwGH/5y1/cSbZevnyJ/f19PzeRiCTAQPeAruvuxFvRaBR//vOfUSqVEAqF8OrVK14wRERTwUAXTNd1t3ceDAbxpz/9CfV6HfF4HK9eveIFQ0Q0NQHbtm2/N2KaRietarfbKJfLwufzNk0TuVwO29vbWF1dHfo50B/h0mq1YJomwuEwlpeXHzws0TRNtNvtoXZEabfbCIfDwhcYAPrj8L14g9N1HaqqenLBVrPZRDwe92ThCa+On6qqME0TS0tLwttyFkAXPYTXsizU63Wsr68LbQfoXwn+61//WshzL0QPfXNz05MX397eHjY2Nm5d1HltbW0q7TglHC/2ybIshMNhJJNJ4W21221P9klVVQQCAU/aMgwDiUTCkzdEr45fMBj0LNA1TUMymRT+htjr9aCqqif7JJJ0gZ7JZIZuOz320Z+LUK1Wsb29LXyu8na7DU3TPNkn0zSRSCSwtbUlvK2rqyvs7OwIX7GoXq+jUql4cvy63S7W19eFf5qyLAtXV1ee7FOpVEK32/WkrVar5UmHTNM0NBoNT/ZJ5NTXnD6XiEgSDHQiIkkw0ImIJCHdKBciokXFHjoRkSQY6EREkmCgExFJgoFORCQJ6S4s8ks2m3W/z+VynrQnuh0v98nr4+e0KbKtwX0CxO6XV8dvdJ9Etif7608EBvoUjAaD10Ehqg2v9snr4+e04QU/3txFHj8ZXxN+vP5EYcllznj1YvPyBT2vfzzj+BkKMh5PmgwDfc7wj/XxvArbbDbrfnnB67b4Wpw9LLnQnbwMQECeNy2vy3DO88sQtrlczrfzKvOMgU4zw4tAkrFk5Ud7onl9XmCwMzHPoc5Ap7Fk6O2NGvyDlXH/RJPxmMmyP6yh0628LrV4IZfLuV/ObRHmuZe3aGT6XXFyrimRbRy6l+ONR9uTcRy6TOOo/Xijl+n4icRAJyKSBEsuRESSYKATEUmCgU5EJAkGOhGRJBjoRESSYKATEUmCgU5EJAkGOhGRJBjoRESSYKATEUmCgU5EJAlOn+uBfy328I8/aDhvWVN5vr10EP/0fQz/NhOayvMRkRwWanKu7O/bU3me3H9dutfj/91/V3DRmu5h3ksH8X//ITnV5ySi+eZLD/2mYB0NyUkeMy+cML9r+5ta/3HLscDYx2V/355ab5+I5MGSywz5L/+zi0AA+F//iT1vIro/XwN9XI918L5plUpm2W9/UPGu0u91/+P/0fBP/z7m8xYR0bxZqB76LJdsfvd9HL/73u+tIKJ5xmGLRESS8KWHft+e8rR61n6Nchn12x9U/O77uPD/Q0SLhT10DzU1G3//zx38y3vz3v/3X96b+Pt/7rgjYYiIRjHQPfaYUf+Lc8UAET0ET4p6aDkWwP/+z0n89gf13v/3P74Ms+RCRGP50kPP/r59r3r2fR8/6x4SzAxzIrrLQvXQZ+WkKBGRCAsV6LPstz+o7slSlleI6CF8DfTBHvMkc7k81iz3rH/3fRx/LXfc74mI7os99BnyP/5Dwu9NIKI5xulzH+C+Pf1/898UtPTpHubddAD/7x9SU31OIppvCxXofvnXYg+//UGd2pzou+kAfvd9nAtcENEQBjoRkSR4pSgRkSQY6EREkmCgExFJgoFORCQJBjoRkSQY6EREkmCgExFJgoFORCQJBjoRkSQY6EREkmCgExFJgoFORCQJBjoRkSQY6EREkmCgExFJgoFORCQJBjoRkST+P8GmUJvXfRXFAAAAAElFTkSuQmCC)\n",
        "\n",
        "**Tahn + Adam**\n",
        "![image.png](data:image/png;base64,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)"
      ],
      "metadata": {
        "id": "l24N4VbcVMrS"
      }
    },
    {
      "cell_type": "code",
      "source": [],
      "metadata": {
        "id": "TjQ0AjAMWUuJ"
      },
      "execution_count": null,
      "outputs": []
    }
  ]
}