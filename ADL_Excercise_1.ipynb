{
  "nbformat": 4,
  "nbformat_minor": 0,
  "metadata": {
    "colab": {
      "provenance": [],
      "toc_visible": true,
      "authorship_tag": "ABX9TyNw75+C/RhDP3xoCELJH6DW",
      "include_colab_link": true
    },
    "kernelspec": {
      "name": "python3",
      "display_name": "Python 3"
    },
    "language_info": {
      "name": "python"
    }
  },
  "cells": [
    {
      "cell_type": "markdown",
      "metadata": {
        "id": "view-in-github",
        "colab_type": "text"
      },
      "source": [
        "<a href=\"https://colab.research.google.com/github/oscarlundberg95/ADL/blob/main/ADL_Excercise_1.ipynb\" target=\"_parent\"><img src=\"https://colab.research.google.com/assets/colab-badge.svg\" alt=\"Open In Colab\"/></a>"
      ]
    },
    {
      "cell_type": "markdown",
      "source": [
        "test\n"
      ],
      "metadata": {
        "id": "SeftxONs7UKS"
      }
    },
    {
      "cell_type": "code",
      "source": [],
      "metadata": {
        "id": "i8YtgpRW7ahM"
      },
      "execution_count": null,
      "outputs": []
    },
    {
      "cell_type": "markdown",
      "source": [
        "test2\n"
      ],
      "metadata": {
        "id": "sS-Fwi0W7a64"
      }
    }
  ]
}