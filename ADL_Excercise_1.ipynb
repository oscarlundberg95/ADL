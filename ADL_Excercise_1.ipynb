{
  "nbformat": 4,
  "nbformat_minor": 0,
  "metadata": {
    "colab": {
      "provenance": [],
      "toc_visible": true,
      "authorship_tag": "ABX9TyNIv8W2lzZ05WSrESd08isQ",
      "include_colab_link": true
    },
    "kernelspec": {
      "name": "python3",
      "display_name": "Python 3"
    },
    "language_info": {
      "name": "python"
    }
  },
  "cells": [
    {
      "cell_type": "markdown",
      "metadata": {
        "id": "view-in-github",
        "colab_type": "text"
      },
      "source": [
        "<a href=\"https://colab.research.google.com/github/oscarlundberg95/ADL/blob/main/ADL_Excercise_1.ipynb\" target=\"_parent\"><img src=\"https://colab.research.google.com/assets/colab-badge.svg\" alt=\"Open In Colab\"/></a>"
      ]
    },
    {
      "cell_type": "markdown",
      "source": [
        "* Download and prepare CIFAR-10 dataset\n"
      ],
      "metadata": {
        "id": "SeftxONs7UKS"
      }
    },
    {
      "cell_type": "code",
      "source": [],
      "metadata": {
        "id": "i8YtgpRW7ahM"
      },
      "execution_count": null,
      "outputs": []
    },
    {
      "cell_type": "markdown",
      "source": [
        "* Write a simple CNN network for classifying images\n",
        "  - use LeakyReLU as the activation function\n",
        "  - use SGD as the optimizer and 0.0001 as the learning rate, and keep all default param-eters\n",
        "– Report the accuracy on the test set\n",
        "\n",
        "\n"
      ],
      "metadata": {
        "id": "sS-Fwi0W7a64"
      }
    },
    {
      "cell_type": "code",
      "source": [],
      "metadata": {
        "id": "koKj8WLCDTrL"
      },
      "execution_count": null,
      "outputs": []
    },
    {
      "cell_type": "markdown",
      "source": [
        "* Change the optimiser to Adam and run again the experiment. Report accuracy on test set.\n"
      ],
      "metadata": {
        "id": "Ns5dVNa2DXMw"
      }
    },
    {
      "cell_type": "code",
      "source": [],
      "metadata": {
        "id": "_jWTcgnvDZh-"
      },
      "execution_count": null,
      "outputs": []
    },
    {
      "cell_type": "markdown",
      "source": [
        "* Swap the LeakyReLUs for Tanh. Then run again the experiment and report accuracy on\n",
        "test set. Make a separate file for this experiment.\n"
      ],
      "metadata": {
        "id": "PuJVGNDoDcLo"
      }
    },
    {
      "cell_type": "code",
      "source": [],
      "metadata": {
        "id": "FfJsj-aVDesD"
      },
      "execution_count": null,
      "outputs": []
    },
    {
      "cell_type": "markdown",
      "source": [
        "* Visualize the results of these runs on a Tensorboard. Just put any screenshot of the web interface with the experiments to prove you got it working is enough. (for example- show the training loss on tensorboard)"
      ],
      "metadata": {
        "id": "61g1QKW8DfsL"
      }
    },
    {
      "cell_type": "code",
      "source": [],
      "metadata": {
        "id": "3AQzW_KrDgQC"
      },
      "execution_count": null,
      "outputs": []
    }
  ]
}